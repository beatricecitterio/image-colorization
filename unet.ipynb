{
 "cells": [
  {
   "cell_type": "markdown",
   "metadata": {},
   "source": [
    "# UNet"
   ]
  },
  {
   "cell_type": "code",
   "execution_count": 1,
   "metadata": {},
   "outputs": [
    {
     "name": "stderr",
     "output_type": "stream",
     "text": [
      "/Users/mattiamartino/opt/anaconda3/envs/ML/lib/python3.10/site-packages/torchvision/io/image.py:13: UserWarning: Failed to load image Python extension: 'dlopen(/Users/mattiamartino/opt/anaconda3/envs/ML/lib/python3.10/site-packages/torchvision/image.so, 0x0006): Symbol not found: __ZN3c1017RegisterOperatorsD1Ev\n",
      "  Referenced from: <9B280146-BBD7-3F77-9873-F9740F2A5329> /Users/mattiamartino/opt/anaconda3/envs/ML/lib/python3.10/site-packages/torchvision/image.so\n",
      "  Expected in:     <A143545E-B078-3AE6-B77E-710940ED5873> /Users/mattiamartino/opt/anaconda3/envs/ML/lib/python3.10/site-packages/torch/lib/libtorch_cpu.dylib'If you don't plan on using image functionality from `torchvision.io`, you can ignore this warning. Otherwise, there might be something wrong with your environment. Did you have `libjpeg` or `libpng` installed before building `torchvision` from source?\n",
      "  warn(\n",
      "/Users/mattiamartino/opt/anaconda3/envs/ML/lib/python3.10/site-packages/tqdm/auto.py:21: TqdmWarning: IProgress not found. Please update jupyter and ipywidgets. See https://ipywidgets.readthedocs.io/en/stable/user_install.html\n",
      "  from .autonotebook import tqdm as notebook_tqdm\n"
     ]
    }
   ],
   "source": [
    "import torch\n",
    "from torch.utils.data import DataLoader, random_split\n",
    "import torchvision.transforms as transforms\n",
    "import matplotlib.pyplot as plt\n",
    "import numpy as np\n",
    "import torch.nn as nn\n",
    "from torch.nn.functional import relu\n",
    "from tqdm.auto import tqdm\n",
    "import torch.optim as optim\n",
    "from utils.dataset import CocoDataset\n",
    "from utils.plots import plot_l, plot_a, plot_b, plot_rgb, reconstruct_lab, plot_predicted_image, plot_ab"
   ]
  },
  {
   "cell_type": "code",
   "execution_count": 2,
   "metadata": {},
   "outputs": [
    {
     "data": {
      "text/plain": [
       "True"
      ]
     },
     "execution_count": 2,
     "metadata": {},
     "output_type": "execute_result"
    }
   ],
   "source": [
    "torch.backends.mps.is_available()"
   ]
  },
  {
   "cell_type": "code",
   "execution_count": 3,
   "metadata": {},
   "outputs": [
    {
     "data": {
      "text/plain": [
       "'mps'"
      ]
     },
     "execution_count": 3,
     "metadata": {},
     "output_type": "execute_result"
    }
   ],
   "source": [
    "device = 'mps' if torch.backends.mps.is_available() else 'cpu'\n",
    "device"
   ]
  },
  {
   "cell_type": "markdown",
   "metadata": {},
   "source": [
    "## Data import"
   ]
  },
  {
   "cell_type": "code",
   "execution_count": 4,
   "metadata": {},
   "outputs": [],
   "source": [
    "transform = transforms.Compose([\n",
    "    transforms.Resize((64, 64)),\n",
    "    transforms.ToTensor()\n",
    "])"
   ]
  },
  {
   "cell_type": "code",
   "execution_count": 5,
   "metadata": {},
   "outputs": [
    {
     "name": "stdout",
     "output_type": "stream",
     "text": [
      "Found 82783 images.\n"
     ]
    }
   ],
   "source": [
    "path = '../train2014'\n",
    "dataset = CocoDataset(path, transform=transform)"
   ]
  },
  {
   "cell_type": "code",
   "execution_count": 6,
   "metadata": {},
   "outputs": [],
   "source": [
    "image, l_channel, a_channel, b_channel, ab_channels = dataset[0]"
   ]
  },
  {
   "cell_type": "code",
   "execution_count": 7,
   "metadata": {},
   "outputs": [
    {
     "data": {
      "text/plain": [
       "(torch.Size([3, 64, 64]),\n",
       " torch.Size([1, 64, 64]),\n",
       " torch.Size([64, 64]),\n",
       " torch.Size([64, 64]),\n",
       " torch.Size([2, 64, 64]))"
      ]
     },
     "execution_count": 7,
     "metadata": {},
     "output_type": "execute_result"
    }
   ],
   "source": [
    "image.shape, l_channel.shape, a_channel.shape, b_channel.shape, ab_channels.shape"
   ]
  },
  {
   "cell_type": "markdown",
   "metadata": {},
   "source": [
    "## Data preparation"
   ]
  },
  {
   "cell_type": "code",
   "execution_count": 8,
   "metadata": {},
   "outputs": [],
   "source": [
    "test_size = int(.2 * len(dataset))\n",
    "train_size = len(dataset) - test_size"
   ]
  },
  {
   "cell_type": "code",
   "execution_count": 9,
   "metadata": {},
   "outputs": [],
   "source": [
    "torch.manual_seed(42)\n",
    "train, test = random_split(dataset, [train_size, test_size], torch.Generator().manual_seed(42))\n",
    "\n",
    "train_loader = DataLoader(train, batch_size=64, shuffle=True)\n",
    "test_loader = DataLoader(test, batch_size=64, shuffle=True)"
   ]
  },
  {
   "cell_type": "code",
   "execution_count": 10,
   "metadata": {},
   "outputs": [
    {
     "name": "stdout",
     "output_type": "stream",
     "text": [
      "5\n",
      "Image shape torch.Size([64, 3, 64, 64])\n",
      "L shape torch.Size([64, 1, 64, 64])\n",
      "A shape torch.Size([64, 64, 64])\n",
      "B shape torch.Size([64, 64, 64])\n",
      "AB shape torch.Size([64, 2, 64, 64])\n"
     ]
    }
   ],
   "source": [
    "for x in train_loader:\n",
    "    print(len(x))\n",
    "    print(f\"Image shape {x[0].shape}\\nL shape {x[1].shape}\\nA shape {x[2].shape}\\nB shape {x[3].shape}\\nAB shape {x[4].shape}\")\n",
    "    break"
   ]
  },
  {
   "cell_type": "markdown",
   "metadata": {},
   "source": [
    "## UNet model"
   ]
  },
  {
   "cell_type": "code",
   "execution_count": 11,
   "metadata": {},
   "outputs": [],
   "source": [
    "torch.manual_seed(42)\n",
    "train_size = 5000\n",
    "small_train, _ = random_split(train, [train_size, len(train) - train_size], torch.Generator().manual_seed(42))\n",
    "small_train_loader = DataLoader(small_train, batch_size=64, shuffle=True)\n",
    "test_size = 1000\n",
    "small_test, _ = random_split(test, [test_size, len(test) - test_size], torch.Generator().manual_seed(42))\n",
    "small_test_loader = DataLoader(small_test, batch_size=64, shuffle=True)"
   ]
  },
  {
   "cell_type": "code",
   "execution_count": 12,
   "metadata": {},
   "outputs": [
    {
     "data": {
      "text/plain": [
       "(5000, 1000)"
      ]
     },
     "execution_count": 12,
     "metadata": {},
     "output_type": "execute_result"
    }
   ],
   "source": [
    "len(small_train), len(small_test)"
   ]
  },
  {
   "cell_type": "markdown",
   "metadata": {},
   "source": [
    "### Training"
   ]
  },
  {
   "cell_type": "code",
   "execution_count": 13,
   "metadata": {},
   "outputs": [],
   "source": [
    "def double_convolution(in_channels, out_channels):\n",
    "    \"\"\"\n",
    "    In the original paper implementation, the convolution operations were\n",
    "    not padded but we are padding them here. This is because, we need the \n",
    "    output result size to be same as input size.\n",
    "    \"\"\"\n",
    "    conv_op = nn.Sequential(\n",
    "        nn.Conv2d(in_channels, out_channels, kernel_size=3, padding=1),\n",
    "        nn.ReLU(inplace=True),\n",
    "        nn.Conv2d(out_channels, out_channels, kernel_size=3, padding=1),\n",
    "        nn.ReLU(inplace=True)\n",
    "    )\n",
    "    return conv_op"
   ]
  },
  {
   "cell_type": "code",
   "execution_count": 14,
   "metadata": {},
   "outputs": [],
   "source": [
    "class UNet(nn.Module):\n",
    "    def __init__(self, num_classes=2):\n",
    "        super(UNet, self).__init__()\n",
    "        self.max_pool2d = nn.MaxPool2d(kernel_size=2, stride=2)\n",
    "        # Contracting path.\n",
    "        # Each convolution is applied twice.\n",
    "        self.down_convolution_1 = double_convolution(1, 64)\n",
    "        self.down_convolution_2 = double_convolution(64, 128)\n",
    "        self.down_convolution_3 = double_convolution(128, 256)\n",
    "        self.down_convolution_4 = double_convolution(256, 512)\n",
    "        self.down_convolution_5 = double_convolution(512, 1024)\n",
    "        # Expanding path.\n",
    "        self.up_transpose_1 = nn.ConvTranspose2d(\n",
    "            in_channels=1024, out_channels=512,\n",
    "            kernel_size=2, \n",
    "            stride=2)\n",
    "        # Below, `in_channels` again becomes 1024 as we are concatinating.\n",
    "        self.up_convolution_1 = double_convolution(1024, 512)\n",
    "        self.up_transpose_2 = nn.ConvTranspose2d(\n",
    "            in_channels=512, out_channels=256,\n",
    "            kernel_size=2, \n",
    "            stride=2)\n",
    "        self.up_convolution_2 = double_convolution(512, 256)\n",
    "        self.up_transpose_3 = nn.ConvTranspose2d(\n",
    "            in_channels=256, out_channels=128,\n",
    "            kernel_size=2, \n",
    "            stride=2)\n",
    "        self.up_convolution_3 = double_convolution(256, 128)\n",
    "        self.up_transpose_4 = nn.ConvTranspose2d(\n",
    "            in_channels=128, out_channels=64,\n",
    "            kernel_size=2, \n",
    "            stride=2)\n",
    "        self.up_convolution_4 = double_convolution(128, 64)\n",
    "        # output => `out_channels` as per the number of classes.\n",
    "        self.out = nn.Conv2d(\n",
    "            in_channels=64, out_channels=num_classes, \n",
    "            kernel_size=1\n",
    "        ) \n",
    "        self.sigmoid = nn.Sigmoid()\n",
    "    def forward(self, x):\n",
    "        down_1 = self.down_convolution_1(x)\n",
    "        down_2 = self.max_pool2d(down_1)\n",
    "        down_3 = self.down_convolution_2(down_2)\n",
    "        down_4 = self.max_pool2d(down_3)\n",
    "        down_5 = self.down_convolution_3(down_4)\n",
    "        down_6 = self.max_pool2d(down_5)\n",
    "        down_7 = self.down_convolution_4(down_6)\n",
    "        down_8 = self.max_pool2d(down_7)\n",
    "        down_9 = self.down_convolution_5(down_8)        \n",
    "        \n",
    "        up_1 = self.up_transpose_1(down_9)\n",
    "        x = self.up_convolution_1(torch.cat([down_7, up_1], 1))\n",
    "        up_2 = self.up_transpose_2(x)\n",
    "        x = self.up_convolution_2(torch.cat([down_5, up_2], 1))\n",
    "        up_3 = self.up_transpose_3(x)\n",
    "        x = self.up_convolution_3(torch.cat([down_3, up_3], 1))\n",
    "        up_4 = self.up_transpose_4(x)\n",
    "        x = self.up_convolution_4(torch.cat([down_1, up_4], 1))\n",
    "        out = self.out(x)\n",
    "        x = self.sigmoid(out)\n",
    "        return x"
   ]
  },
  {
   "cell_type": "code",
   "execution_count": 15,
   "metadata": {},
   "outputs": [],
   "source": [
    "import torch\n",
    "import torch.nn as nn\n",
    "import torch.nn.functional as F\n",
    "\n",
    "class UNet(nn.Module):\n",
    "    def __init__(self):\n",
    "        super(UNet, self).__init__()\n",
    "        self.conv1 = nn.Conv2d(1, 64, 3, padding=1)\n",
    "        self.conv2 = nn.Conv2d(64, 64, 3, padding=1)\n",
    "        self.conv3 = nn.Conv2d(64, 64, 3, padding=1)\n",
    "        self.maxpool1 = nn.MaxPool2d(2, stride=2)\n",
    "\n",
    "        self.conv4 = nn.Conv2d(64, 128, 3, padding=1)\n",
    "        self.conv5 = nn.Conv2d(128, 128, 3, padding=1)\n",
    "        self.conv6 = nn.Conv2d(128, 128, 3, padding=1)\n",
    "        self.maxpool2 = nn.MaxPool2d(2, stride=2)\n",
    "\n",
    "        self.conv7 = nn.Conv2d(128, 256, 3, padding=1)\n",
    "        self.conv8 = nn.Conv2d(256, 256, 3, padding=1)\n",
    "        self.conv9 = nn.Conv2d(256, 256, 3, padding=1)\n",
    "        self.maxpool3 = nn.MaxPool2d(2, stride=2)\n",
    "\n",
    "        self.conv10 = nn.Conv2d(256, 512, 3, padding=1)\n",
    "        self.conv11 = nn.Conv2d(512, 512, 3, padding=1)\n",
    "        self.conv12 = nn.Conv2d(512, 512, 3, padding=1)\n",
    "        self.maxpool4 = nn.MaxPool2d(2, stride=2)\n",
    "\n",
    "        self.conv13 = nn.Conv2d(512, 1024, 3, padding=1)\n",
    "        self.conv14 = nn.Conv2d(1024, 1024, 3, padding=1)\n",
    "        self.conv15 = nn.Conv2d(1024, 1024, 3, padding=1)\n",
    "        self.up1 = nn.ConvTranspose2d(1024, 512, 3, stride=2, padding=1, output_padding=1)\n",
    "\n",
    "        self.conv16 = nn.Conv2d(1024, 512, 3, padding=1)\n",
    "        self.conv17 = nn.Conv2d(512, 512, 3, padding=1)\n",
    "        self.conv18 = nn.Conv2d(512, 512, 3, padding=1)\n",
    "        self.up2 = nn.ConvTranspose2d(512, 256, 3, stride=2, padding=1, output_padding=1)\n",
    "\n",
    "        self.conv19 = nn.Conv2d(512, 256, 3, padding=1)\n",
    "        self.conv20 = nn.Conv2d(256, 256, 3, padding=1)\n",
    "        self.conv21 = nn.Conv2d(256, 256, 3, padding=1)\n",
    "        self.up3 = nn.ConvTranspose2d(256, 128, 3, stride=2, padding=1, output_padding=1)\n",
    "\n",
    "        self.conv22 = nn.Conv2d(256, 128, 3, padding=1)\n",
    "        self.conv23 = nn.Conv2d(128, 128, 3, padding=1)\n",
    "        self.conv24 = nn.Conv2d(128, 128, 3, padding=1)\n",
    "        self.up4 = nn.ConvTranspose2d(128, 64, 3, stride=2, padding=1, output_padding=1)\n",
    "\n",
    "        self.conv25 = nn.Conv2d(128, 64, 3, padding=1)\n",
    "        self.conv26 = nn.Conv2d(64, 64, 3, padding=1)\n",
    "        self.conv27 = nn.Conv2d(64, 64, 3, padding=1)\n",
    "        self.output = nn.Conv2d(64, 2, 1, padding=0)\n",
    "\n",
    "    def forward(self, x):\n",
    "        x1 = F.leaky_relu(self.conv1(x), negative_slope=0.2)\n",
    "        x1 = F.leaky_relu(self.conv2(x1), negative_slope=0.2)\n",
    "        x1 = F.leaky_relu(self.conv3(x1), negative_slope=0.2)\n",
    "        x = self.maxpool1(x1)\n",
    "\n",
    "        x2 = F.leaky_relu(self.conv4(x), negative_slope=0.2)\n",
    "        x2 = F.leaky_relu(self.conv5(x2), negative_slope=0.2)\n",
    "        x2 = F.leaky_relu(self.conv6(x2), negative_slope=0.2)\n",
    "        x = self.maxpool2(x2)\n",
    "\n",
    "        x3 = F.leaky_relu(self.conv7(x), negative_slope=0.2)\n",
    "        x3 = F.leaky_relu(self.conv8(x3), negative_slope=0.2)\n",
    "        x3 = F.leaky_relu(self.conv9(x3), negative_slope=0.2)\n",
    "        x = self.maxpool3(x3)\n",
    "\n",
    "        x4 = F.leaky_relu(self.conv10(x), negative_slope=0.2)\n",
    "        x4 = F.leaky_relu(self.conv11(x4), negative_slope=0.2)\n",
    "        x4 = F.leaky_relu(self.conv12(x4), negative_slope=0.2)\n",
    "        x = self.maxpool4(x4)\n",
    "\n",
    "        x = F.leaky_relu(self.conv13(x), negative_slope=0.2)\n",
    "        x = F.leaky_relu(self.conv14(x), negative_slope=0.2)\n",
    "        x = F.leaky_relu(self.conv15(x), negative_slope=0.2)\n",
    "        x = self.up1(x)\n",
    "\n",
    "        x = torch.cat([x4, x], dim=1)\n",
    "        x = F.leaky_relu(self.conv16(x), negative_slope=0.2)\n",
    "        x = F.leaky_relu(self.conv17(x), negative_slope=0.2)\n",
    "        x = F.leaky_relu(self.conv18(x), negative_slope=0.2)\n",
    "        x = self.up2(x)\n",
    "\n",
    "        x = torch.cat([x3, x], dim=1)\n",
    "        x = F.leaky_relu(self.conv19(x), negative_slope=0.2)\n",
    "        x = F.leaky_relu(self.conv20(x), negative_slope=0.2)\n",
    "        x = F.leaky_relu(self.conv21(x), negative_slope=0.2)\n",
    "        x = self.up3(x)\n",
    "\n",
    "        x = torch.cat([x2, x], dim=1)\n",
    "        x = F.leaky_relu(self.conv22(x), negative_slope=0.2)\n",
    "        x = F.leaky_relu(self.conv23(x), negative_slope=0.2)\n",
    "        x = F.leaky_relu(self.conv24(x), negative_slope=0.2)\n",
    "        x = self.up4(x)\n",
    "\n",
    "        x = torch.cat([x1, x], dim=1)\n",
    "        x = F.leaky_relu(self.conv25(x), negative_slope=0.2)\n",
    "        x = F.leaky_relu(self.conv26(x), negative_slope=0.2)\n",
    "        x = F.leaky_relu(self.conv27(x), negative_slope=0.2)\n",
    "        x = self.output(x)\n",
    "\n",
    "        return torch.sigmoid(x)"
   ]
  },
  {
   "cell_type": "code",
   "execution_count": 16,
   "metadata": {},
   "outputs": [],
   "source": [
    "model = UNet().to(device)\n",
    "criterion = nn.MSELoss()\n",
    "optimizer = optim.Adam(model.parameters(), lr=1e-4)"
   ]
  },
  {
   "cell_type": "code",
   "execution_count": 17,
   "metadata": {},
   "outputs": [
    {
     "name": "stderr",
     "output_type": "stream",
     "text": [
      "Epoch 1/20:   0%|          | 0/79 [00:00<?, ?it/s]"
     ]
    },
    {
     "name": "stderr",
     "output_type": "stream",
     "text": [
      "Epoch 1/20: 100%|██████████| 79/79 [02:12<00:00,  1.68s/it, loss=0.00327]\n"
     ]
    },
    {
     "name": "stdout",
     "output_type": "stream",
     "text": [
      "Epoch 1, Train Loss: 0.003274863700771445\n"
     ]
    },
    {
     "name": "stderr",
     "output_type": "stream",
     "text": [
      "Testing: 100%|██████████| 16/16 [00:12<00:00,  1.32it/s]\n"
     ]
    },
    {
     "name": "stdout",
     "output_type": "stream",
     "text": [
      "Epoch 1, Validation Loss: 0.0031121012434596196\n"
     ]
    },
    {
     "name": "stderr",
     "output_type": "stream",
     "text": [
      "Epoch 2/20: 100%|██████████| 79/79 [02:15<00:00,  1.71s/it, loss=0.00306]\n"
     ]
    },
    {
     "name": "stdout",
     "output_type": "stream",
     "text": [
      "Epoch 2, Train Loss: 0.0030645110726922374\n"
     ]
    },
    {
     "name": "stderr",
     "output_type": "stream",
     "text": [
      "Testing: 100%|██████████| 16/16 [00:12<00:00,  1.28it/s]\n"
     ]
    },
    {
     "name": "stdout",
     "output_type": "stream",
     "text": [
      "Epoch 2, Validation Loss: 0.0030162307230057195\n"
     ]
    },
    {
     "name": "stderr",
     "output_type": "stream",
     "text": [
      "Epoch 3/20: 100%|██████████| 79/79 [02:15<00:00,  1.71s/it, loss=0.00306]\n"
     ]
    },
    {
     "name": "stdout",
     "output_type": "stream",
     "text": [
      "Epoch 3, Train Loss: 0.0030642721177184884\n"
     ]
    },
    {
     "name": "stderr",
     "output_type": "stream",
     "text": [
      "Testing: 100%|██████████| 16/16 [00:12<00:00,  1.28it/s]\n"
     ]
    },
    {
     "name": "stdout",
     "output_type": "stream",
     "text": [
      "Epoch 3, Validation Loss: 0.0030168295052135363\n"
     ]
    },
    {
     "name": "stderr",
     "output_type": "stream",
     "text": [
      "Epoch 4/20: 100%|██████████| 79/79 [02:16<00:00,  1.72s/it, loss=0.00303]\n"
     ]
    },
    {
     "name": "stdout",
     "output_type": "stream",
     "text": [
      "Epoch 4, Train Loss: 0.00303288398876409\n"
     ]
    },
    {
     "name": "stderr",
     "output_type": "stream",
     "text": [
      "Testing: 100%|██████████| 16/16 [00:12<00:00,  1.25it/s]\n"
     ]
    },
    {
     "name": "stdout",
     "output_type": "stream",
     "text": [
      "Epoch 4, Validation Loss: 0.0029760941106360406\n"
     ]
    },
    {
     "name": "stderr",
     "output_type": "stream",
     "text": [
      "Epoch 5/20: 100%|██████████| 79/79 [02:16<00:00,  1.73s/it, loss=0.00302]\n"
     ]
    },
    {
     "name": "stdout",
     "output_type": "stream",
     "text": [
      "Epoch 5, Train Loss: 0.003015580554669605\n"
     ]
    },
    {
     "name": "stderr",
     "output_type": "stream",
     "text": [
      "Testing: 100%|██████████| 16/16 [00:12<00:00,  1.25it/s]\n"
     ]
    },
    {
     "name": "stdout",
     "output_type": "stream",
     "text": [
      "Epoch 5, Validation Loss: 0.002968658838653937\n"
     ]
    },
    {
     "name": "stderr",
     "output_type": "stream",
     "text": [
      "Epoch 6/20: 100%|██████████| 79/79 [02:22<00:00,  1.81s/it, loss=0.00302]\n"
     ]
    },
    {
     "name": "stdout",
     "output_type": "stream",
     "text": [
      "Epoch 6, Train Loss: 0.003024338190502758\n"
     ]
    },
    {
     "name": "stderr",
     "output_type": "stream",
     "text": [
      "Testing: 100%|██████████| 16/16 [00:12<00:00,  1.25it/s]\n"
     ]
    },
    {
     "name": "stdout",
     "output_type": "stream",
     "text": [
      "Epoch 6, Validation Loss: 0.00298133421165403\n"
     ]
    },
    {
     "name": "stderr",
     "output_type": "stream",
     "text": [
      "Epoch 7/20: 100%|██████████| 79/79 [02:38<00:00,  2.00s/it, loss=0.00302]\n"
     ]
    },
    {
     "name": "stdout",
     "output_type": "stream",
     "text": [
      "Epoch 7, Train Loss: 0.003016572021230867\n"
     ]
    },
    {
     "name": "stderr",
     "output_type": "stream",
     "text": [
      "Testing: 100%|██████████| 16/16 [00:13<00:00,  1.17it/s]\n"
     ]
    },
    {
     "name": "stdout",
     "output_type": "stream",
     "text": [
      "Epoch 7, Validation Loss: 0.002960721292765811\n"
     ]
    },
    {
     "name": "stderr",
     "output_type": "stream",
     "text": [
      "Epoch 8/20: 100%|██████████| 79/79 [02:50<00:00,  2.16s/it, loss=0.003]  \n"
     ]
    },
    {
     "name": "stdout",
     "output_type": "stream",
     "text": [
      "Epoch 8, Train Loss: 0.003000034965409697\n"
     ]
    },
    {
     "name": "stderr",
     "output_type": "stream",
     "text": [
      "Testing: 100%|██████████| 16/16 [00:13<00:00,  1.15it/s]\n"
     ]
    },
    {
     "name": "stdout",
     "output_type": "stream",
     "text": [
      "Epoch 8, Validation Loss: 0.0029867545963497832\n"
     ]
    },
    {
     "name": "stderr",
     "output_type": "stream",
     "text": [
      "Epoch 9/20: 100%|██████████| 79/79 [02:59<00:00,  2.27s/it, loss=0.00298]\n"
     ]
    },
    {
     "name": "stdout",
     "output_type": "stream",
     "text": [
      "Epoch 9, Train Loss: 0.0029821917267304054\n"
     ]
    },
    {
     "name": "stderr",
     "output_type": "stream",
     "text": [
      "Testing: 100%|██████████| 16/16 [00:14<00:00,  1.12it/s]\n"
     ]
    },
    {
     "name": "stdout",
     "output_type": "stream",
     "text": [
      "Epoch 9, Validation Loss: 0.0029371612617978826\n"
     ]
    },
    {
     "name": "stderr",
     "output_type": "stream",
     "text": [
      "Epoch 10/20: 100%|██████████| 79/79 [03:06<00:00,  2.36s/it, loss=0.00302]\n"
     ]
    },
    {
     "name": "stdout",
     "output_type": "stream",
     "text": [
      "Epoch 10, Train Loss: 0.0030212186872251804\n"
     ]
    },
    {
     "name": "stderr",
     "output_type": "stream",
     "text": [
      "Testing: 100%|██████████| 16/16 [00:14<00:00,  1.08it/s]\n"
     ]
    },
    {
     "name": "stdout",
     "output_type": "stream",
     "text": [
      "Epoch 10, Validation Loss: 0.0029428006964735687\n"
     ]
    },
    {
     "name": "stderr",
     "output_type": "stream",
     "text": [
      "Epoch 11/20: 100%|██████████| 79/79 [03:05<00:00,  2.35s/it, loss=0.00301]\n"
     ]
    },
    {
     "name": "stdout",
     "output_type": "stream",
     "text": [
      "Epoch 11, Train Loss: 0.0030115528998872904\n"
     ]
    },
    {
     "name": "stderr",
     "output_type": "stream",
     "text": [
      "Testing: 100%|██████████| 16/16 [00:14<00:00,  1.11it/s]\n"
     ]
    },
    {
     "name": "stdout",
     "output_type": "stream",
     "text": [
      "Epoch 11, Validation Loss: 0.0029521923570428044\n"
     ]
    },
    {
     "name": "stderr",
     "output_type": "stream",
     "text": [
      "Epoch 12/20: 100%|██████████| 79/79 [03:11<00:00,  2.42s/it, loss=0.00298]\n"
     ]
    },
    {
     "name": "stdout",
     "output_type": "stream",
     "text": [
      "Epoch 12, Train Loss: 0.0029770637128525707\n"
     ]
    },
    {
     "name": "stderr",
     "output_type": "stream",
     "text": [
      "Testing: 100%|██████████| 16/16 [00:18<00:00,  1.18s/it]\n"
     ]
    },
    {
     "name": "stdout",
     "output_type": "stream",
     "text": [
      "Epoch 12, Validation Loss: 0.002923003426985815\n"
     ]
    },
    {
     "name": "stderr",
     "output_type": "stream",
     "text": [
      "Epoch 13/20: 100%|██████████| 79/79 [04:12<00:00,  3.20s/it, loss=0.00298]\n"
     ]
    },
    {
     "name": "stdout",
     "output_type": "stream",
     "text": [
      "Epoch 13, Train Loss: 0.002981791426015051\n"
     ]
    },
    {
     "name": "stderr",
     "output_type": "stream",
     "text": [
      "Testing: 100%|██████████| 16/16 [00:12<00:00,  1.31it/s]\n"
     ]
    },
    {
     "name": "stdout",
     "output_type": "stream",
     "text": [
      "Epoch 13, Validation Loss: 0.0028810990042984486\n"
     ]
    },
    {
     "name": "stderr",
     "output_type": "stream",
     "text": [
      "Epoch 14/20: 100%|██████████| 79/79 [02:14<00:00,  1.70s/it, loss=0.00294]\n"
     ]
    },
    {
     "name": "stdout",
     "output_type": "stream",
     "text": [
      "Epoch 14, Train Loss: 0.002936570642846106\n"
     ]
    },
    {
     "name": "stderr",
     "output_type": "stream",
     "text": [
      "Testing: 100%|██████████| 16/16 [00:12<00:00,  1.29it/s]\n"
     ]
    },
    {
     "name": "stdout",
     "output_type": "stream",
     "text": [
      "Epoch 14, Validation Loss: 0.002898811289924197\n"
     ]
    },
    {
     "name": "stderr",
     "output_type": "stream",
     "text": [
      "Epoch 15/20: 100%|██████████| 79/79 [02:23<00:00,  1.82s/it, loss=0.00291]\n"
     ]
    },
    {
     "name": "stdout",
     "output_type": "stream",
     "text": [
      "Epoch 15, Train Loss: 0.002912072405879256\n"
     ]
    },
    {
     "name": "stderr",
     "output_type": "stream",
     "text": [
      "Testing: 100%|██████████| 16/16 [00:12<00:00,  1.31it/s]\n"
     ]
    },
    {
     "name": "stdout",
     "output_type": "stream",
     "text": [
      "Epoch 15, Validation Loss: 0.0028836876299465075\n"
     ]
    },
    {
     "name": "stderr",
     "output_type": "stream",
     "text": [
      "Epoch 16/20: 100%|██████████| 79/79 [02:24<00:00,  1.83s/it, loss=0.00293]\n"
     ]
    },
    {
     "name": "stdout",
     "output_type": "stream",
     "text": [
      "Epoch 16, Train Loss: 0.002932768017407271\n"
     ]
    },
    {
     "name": "stderr",
     "output_type": "stream",
     "text": [
      "Testing: 100%|██████████| 16/16 [00:12<00:00,  1.30it/s]\n"
     ]
    },
    {
     "name": "stdout",
     "output_type": "stream",
     "text": [
      "Epoch 16, Validation Loss: 0.0028611837624339387\n"
     ]
    },
    {
     "name": "stderr",
     "output_type": "stream",
     "text": [
      "Epoch 17/20: 100%|██████████| 79/79 [02:27<00:00,  1.87s/it, loss=0.00288]\n"
     ]
    },
    {
     "name": "stdout",
     "output_type": "stream",
     "text": [
      "Epoch 17, Train Loss: 0.0028835025916606944\n"
     ]
    },
    {
     "name": "stderr",
     "output_type": "stream",
     "text": [
      "Testing: 100%|██████████| 16/16 [00:12<00:00,  1.30it/s]\n"
     ]
    },
    {
     "name": "stdout",
     "output_type": "stream",
     "text": [
      "Epoch 17, Validation Loss: 0.002919324077083729\n"
     ]
    },
    {
     "name": "stderr",
     "output_type": "stream",
     "text": [
      "Epoch 18/20: 100%|██████████| 79/79 [02:34<00:00,  1.95s/it, loss=0.00289]\n"
     ]
    },
    {
     "name": "stdout",
     "output_type": "stream",
     "text": [
      "Epoch 18, Train Loss: 0.0028854755631683372\n"
     ]
    },
    {
     "name": "stderr",
     "output_type": "stream",
     "text": [
      "Testing: 100%|██████████| 16/16 [00:12<00:00,  1.27it/s]\n"
     ]
    },
    {
     "name": "stdout",
     "output_type": "stream",
     "text": [
      "Epoch 18, Validation Loss: 0.002862813140382059\n"
     ]
    },
    {
     "name": "stderr",
     "output_type": "stream",
     "text": [
      "Epoch 19/20: 100%|██████████| 79/79 [02:35<00:00,  1.96s/it, loss=0.00285]\n"
     ]
    },
    {
     "name": "stdout",
     "output_type": "stream",
     "text": [
      "Epoch 19, Train Loss: 0.0028541677283665423\n"
     ]
    },
    {
     "name": "stderr",
     "output_type": "stream",
     "text": [
      "Testing: 100%|██████████| 16/16 [00:12<00:00,  1.26it/s]\n"
     ]
    },
    {
     "name": "stdout",
     "output_type": "stream",
     "text": [
      "Epoch 19, Validation Loss: 0.0028744716983055696\n"
     ]
    },
    {
     "name": "stderr",
     "output_type": "stream",
     "text": [
      "Epoch 20/20: 100%|██████████| 79/79 [02:36<00:00,  1.98s/it, loss=0.00288]\n"
     ]
    },
    {
     "name": "stdout",
     "output_type": "stream",
     "text": [
      "Epoch 20, Train Loss: 0.0028822615778050092\n"
     ]
    },
    {
     "name": "stderr",
     "output_type": "stream",
     "text": [
      "Testing: 100%|██████████| 16/16 [00:12<00:00,  1.25it/s]"
     ]
    },
    {
     "name": "stdout",
     "output_type": "stream",
     "text": [
      "Epoch 20, Validation Loss: 0.0028083255019737408\n",
      "Finished Training\n"
     ]
    },
    {
     "name": "stderr",
     "output_type": "stream",
     "text": [
      "\n"
     ]
    }
   ],
   "source": [
    "NUM_EPOCHS = 20\n",
    "train_losses = []\n",
    "test_losses = []\n",
    "for epoch in range(NUM_EPOCHS):\n",
    "    running_loss = 0.0\n",
    "    test_loss =  0.0\n",
    "\n",
    "    model.train()\n",
    "    progress_bar = tqdm(small_train_loader, desc=f'Epoch {epoch + 1}/{NUM_EPOCHS}', leave=True)\n",
    "    for _, l_channels, _, _, ab_channels in progress_bar:\n",
    "        l_channels = l_channels.to(device)\n",
    "        ab_channels = ab_channels.to(device)\n",
    "        \n",
    "        optimizer.zero_grad()\n",
    "        outputs = model(l_channels)\n",
    "        loss = criterion(outputs, ab_channels)\n",
    "        loss.backward()\n",
    "        optimizer.step()\n",
    "        \n",
    "        running_loss += loss.item()\n",
    "        progress_bar.set_postfix(loss=(running_loss / (progress_bar.n + 1)))\n",
    "    \n",
    "    train_losses.append(running_loss / len(small_train_loader))\n",
    "    print(f\"Epoch {epoch + 1}, Train Loss: {train_losses[-1]}\")\n",
    "    \n",
    "    # test loop\n",
    "    model.eval()\n",
    "    with torch.no_grad():\n",
    "        for _, l_channels, _, _, ab_channels in tqdm(small_test_loader, desc='Testing', leave=True):\n",
    "            l_channels = l_channels.to(device)\n",
    "            ab_channels = ab_channels.to(device)\n",
    "            \n",
    "            outputs = model(l_channels)\n",
    "            loss = criterion(outputs, ab_channels)\n",
    "            test_loss += loss.item()\n",
    "        \n",
    "    test_loss /= len(small_test_loader)\n",
    "    test_losses.append(test_loss)\n",
    "    print(f\"Epoch {epoch + 1}, Validation Loss: {test_loss}\")\n",
    "    \n",
    "print('Finished Training')"
   ]
  },
  {
   "cell_type": "code",
   "execution_count": 18,
   "metadata": {},
   "outputs": [
    {
     "data": {
      "image/png": "[encoded data removed]",
      "text/plain": [
       "<Figure size 1000x600 with 1 Axes>"
      ]
     },
     "metadata": {},
     "output_type": "display_data"
    }
   ],
   "source": [
    "plt.figure(figsize=(10, 6))\n",
    "plt.plot(train_losses, label='train')\n",
    "plt.plot(test_losses, label='test')\n",
    "plt.xlabel('Epoch')\n",
    "plt.ylabel('Loss')\n",
    "plt.grid(linestyle = \"--\")\n",
    "plt.legend()\n",
    "plt.show()"
   ]
  },
  {
   "cell_type": "code",
   "execution_count": 19,
   "metadata": {},
   "outputs": [
    {
     "data": {
      "image/png": "[encoded data removed]",
      "text/plain": [
       "<Figure size 600x600 with 1 Axes>"
      ]
     },
     "metadata": {},
     "output_type": "display_data"
    }
   ],
   "source": [
    "plot_l(dataset[0][1])"
   ]
  },
  {
   "cell_type": "code",
   "execution_count": 20,
   "metadata": {},
   "outputs": [
    {
     "data": {
      "image/png": "[encoded data removed]",
      "text/plain": [
       "<Figure size 600x600 with 1 Axes>"
      ]
     },
     "metadata": {},
     "output_type": "display_data"
    }
   ],
   "source": [
    "plot_rgb(dataset[0][0])"
   ]
  },
  {
   "cell_type": "code",
   "execution_count": 21,
   "metadata": {},
   "outputs": [
    {
     "data": {
      "image/png": "[encoded data removed]",
      "text/plain": [
       "<Figure size 600x600 with 1 Axes>"
      ]
     },
     "metadata": {},
     "output_type": "display_data"
    }
   ],
   "source": [
    "reconstruct_lab(dataset[0][1], dataset[0][-1])"
   ]
  },
  {
   "cell_type": "code",
   "execution_count": 23,
   "metadata": {},
   "outputs": [
    {
     "data": {
      "image/png": "[encoded data removed]",
      "text/plain": [
       "<Figure size 600x600 with 1 Axes>"
      ]
     },
     "metadata": {},
     "output_type": "display_data"
    }
   ],
   "source": [
    "input = dataset[0][1].to(device).unsqueeze(0)\n",
    "ab = model(input).squeeze(0)\n",
    "reconstruct_lab(dataset[0][1].to(device).detach().cpu(), ab.detach().cpu())"
   ]
  }
 ],
 "metadata": {
  "kernelspec": {
   "display_name": "ML",
   "language": "python",
   "name": "python3"
  },
  "language_info": {
   "codemirror_mode": {
    "name": "ipython",
    "version": 3
   },
   "file_extension": ".py",
   "mimetype": "text/x-python",
   "name": "python",
   "nbconvert_exporter": "python",
   "pygments_lexer": "ipython3",
   "version": "3.10.9"
  }
 },
 "nbformat": 4,
 "nbformat_minor": 2
}
