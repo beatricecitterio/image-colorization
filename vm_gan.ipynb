{
 "cells": [
  {
   "cell_type": "code",
   "execution_count": null,
   "metadata": {},
   "outputs": [],
   "source": [
    "import torch\n",
    "from torch.utils.data import DataLoader, random_split\n",
    "import torchvision.transforms as transforms\n",
    "import torch.nn as nn\n",
    "import torch.optim as optim\n",
    "from utils.dataset import CocoDataset\n",
    "from utils.plots import plot_l, plot_model_pred, plot_losses\n",
    "from utils.models import EncoderDecoderGenerator, PatchGAN, save_model, load_model\n",
    "from utils.metrics import evaluate_model\n",
    "from utils.training import train_gan, load_losses\n",
    "\n",
    "device = \"cuda\" if torch.cuda.is_available() else \"cpu\"\n",
    "height, width = 256, 256\n",
    "path_vm = \"/home/default/coco/train/\"\n",
    "transform = transforms.Compose([\n",
    "    transforms.Resize((height, width)),\n",
    "    transforms.ToTensor(),\n",
    "])\n",
    "dataset = CocoDataset(root=path_vm, transform=transform)"
   ]
  },
  {
   "cell_type": "code",
   "execution_count": null,
   "metadata": {},
   "outputs": [],
   "source": [
    "torch.manual_seed(42)\n",
    "test_size = int(0.2 * len(dataset))\n",
    "train_size = len(dataset) - test_size\n",
    "train, test = random_split(dataset, [train_size, test_size])\n",
    "train_loader = DataLoader(train, batch_size=64, shuffle=True)\n",
    "test_loader = DataLoader(test, batch_size=64, shuffle=False)"
   ]
  },
  {
   "cell_type": "code",
   "execution_count": null,
   "metadata": {},
   "outputs": [],
   "source": [
    "torch.manual_seed(42)\n",
    "generator = EncoderDecoderGenerator().to(device)\n",
    "generator_opt = optim.Adam(generator.parameters(), lr=0.0002, betas=(0.5, 0.999))\n",
    "\n",
    "discriminator = PatchGAN().to(device)\n",
    "discriminator_opt = optim.SGD(discriminator.parameters(), lr=0.0002, momentum=0.9, nesterov=True)\n",
    "\n",
    "criterion = nn.BCELoss()"
   ]
  },
  {
   "cell_type": "code",
   "execution_count": null,
   "metadata": {},
   "outputs": [],
   "source": [
    "# adjust parameters and epochs if needed!!!!!!!!\n",
    "torch.manual_seed(42)\n",
    "d_losses, g_losses = train_gan(100, discriminator, generator, discriminator_opt, generator_opt,\n",
    "                                 criterion, train_loader, device, l1_lambda=5, label_smoothing=True,\n",
    "                                 add_noise=True, save_checkpoints=True, save_losses=True, file_name=\"gen1\")"
   ]
  },
  {
   "cell_type": "code",
   "execution_count": null,
   "metadata": {},
   "outputs": [],
   "source": [
    "save_model(generator, \"generator_trained\")"
   ]
  },
  {
   "cell_type": "code",
   "execution_count": null,
   "metadata": {},
   "outputs": [],
   "source": [
    "plot_losses(d_losses, g_losses, \"Disc\", \"Gen\")\n",
    "plot_l(dataset[7653][1])\n",
    "plot_model_pred(dataset[7653][1], generator, device)"
   ]
  },
  {
   "cell_type": "code",
   "execution_count": null,
   "metadata": {},
   "outputs": [],
   "source": [
    "torch.manual_seed(42)\n",
    "avg_mse, std_mse, avg_psnr, std_psnr, avg_ssim, std_ssim, fid = evaluate_model(generator, test_loader, device)\n",
    "print(f\"Average MSE, STD: {avg_mse:.4f}, {std_mse:.4f}\")\n",
    "print(f\"Average PSNR, STD: {avg_psnr:.4f}, {std_psnr:.4f}\")\n",
    "print(f\"Average SSIM, STD: {avg_ssim:.4f}, {std_ssim:.4f}\")\n",
    "print(f\"FID: {fid:.4f}\")"
   ]
  }
 ],
 "metadata": {
  "kernelspec": {
   "display_name": "colorization",
   "language": "python",
   "name": "python3"
  },
  "language_info": {
   "name": "python",
   "version": "3.12.3"
  }
 },
 "nbformat": 4,
 "nbformat_minor": 2
}
