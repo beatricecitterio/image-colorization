{
 "cells": [
  {
   "cell_type": "markdown",
   "metadata": {},
   "source": [
    "# CNN Model"
   ]
  },
  {
   "cell_type": "markdown",
   "metadata": {},
   "source": [
    "This notebook contains the construction and the evaluations of CNN models for colorization purposes."
   ]
  },
  {
   "cell_type": "code",
   "execution_count": 37,
   "metadata": {},
   "outputs": [],
   "source": [
    "import torch\n",
    "from torch.utils.data import DataLoader, random_split\n",
    "import torchvision.transforms as transforms\n",
    "import matplotlib.pyplot as plt\n",
    "import numpy as np\n",
    "import torch.nn as nn\n",
    "from tqdm import tqdm\n",
    "import torch.optim as optim\n",
    "import torch.nn.functional as F\n",
    "from utils.dataset import CocoDataset\n",
    "from utils.plots import reconstruct_lab\n",
    "from utils.models import save_model, load_model"
   ]
  },
  {
   "cell_type": "code",
   "execution_count": 38,
   "metadata": {},
   "outputs": [
    {
     "data": {
      "text/plain": [
       "'cuda'"
      ]
     },
     "execution_count": 38,
     "metadata": {},
     "output_type": "execute_result"
    }
   ],
   "source": [
    "device = \"cuda\" if torch.cuda.is_available() else \"cpu\"\n",
    "device"
   ]
  },
  {
   "cell_type": "markdown",
   "metadata": {},
   "source": [
    "## Data import"
   ]
  },
  {
   "cell_type": "code",
   "execution_count": 39,
   "metadata": {},
   "outputs": [],
   "source": [
    "transform = transforms.Compose([\n",
    "    transforms.Resize((64, 64)),\n",
    "    transforms.ToTensor(), # tensorization brings image in range [0,1] and space CxHxW\n",
    "])"
   ]
  },
  {
   "cell_type": "code",
   "execution_count": 40,
   "metadata": {},
   "outputs": [
    {
     "name": "stdout",
     "output_type": "stream",
     "text": [
      "Found 82783 images.\n"
     ]
    }
   ],
   "source": [
    "path_sandro = \"coco/images/train2014\"\n",
    "path_diego = \"C:/Users/diego/coco/images/train2014/train2014\"\n",
    "dataset = CocoDataset(root=path_sandro, transform=transform)"
   ]
  },
  {
   "cell_type": "markdown",
   "metadata": {},
   "source": [
    "## Data preparation"
   ]
  },
  {
   "cell_type": "markdown",
   "metadata": {},
   "source": [
    "We split our dataset in train and test data."
   ]
  },
  {
   "cell_type": "code",
   "execution_count": 41,
   "metadata": {},
   "outputs": [],
   "source": [
    "torch.manual_seed(42)\n",
    "test_size = int(0.2 * len(dataset))\n",
    "train_size = len(dataset) - test_size\n",
    "train, test = random_split(dataset, [train_size, test_size])\n",
    "train_loader = DataLoader(train, batch_size=64, shuffle=True)\n",
    "test_loader = DataLoader(test, batch_size=64, shuffle=False)\n",
    "train_size = 5000\n",
    "small_train, _ = random_split(train, [train_size, len(train) - train_size])\n",
    "small_train_loader = DataLoader(small_train, batch_size=64, shuffle=True)\n",
    "test_size = 1000\n",
    "small_test, _ = random_split(test, [test_size, len(test) - test_size])\n",
    "small_test_loader = DataLoader(small_test, batch_size=64, shuffle=False)"
   ]
  },
  {
   "cell_type": "markdown",
   "metadata": {},
   "source": [
    "## CNN Model"
   ]
  },
  {
   "cell_type": "markdown",
   "metadata": {},
   "source": [
    "We will now build a network of 9 convolutional layers, each followed by a ReLU activation and a BatchNorm layer."
   ]
  },
  {
   "cell_type": "markdown",
   "metadata": {},
   "source": [
    "### Training"
   ]
  },
  {
   "cell_type": "code",
   "execution_count": 42,
   "metadata": {},
   "outputs": [],
   "source": [
    "class CNN(nn.Module):\n",
    "    def __init__(self):\n",
    "        super(CNN, self).__init__()\n",
    "        self.features = nn.Sequential(\n",
    "            nn.Conv2d(1, 4, kernel_size=5, stride=1, padding=2),  # Conv1\n",
    "            nn.ReLU(),\n",
    "            nn.BatchNorm2d(4),\n",
    "            nn.Conv2d(4, 8, kernel_size=5, stride=1, padding=2),  # Conv2\n",
    "            nn.ReLU(),\n",
    "            nn.BatchNorm2d(8),\n",
    "            nn.Conv2d(8, 16, kernel_size=5, stride=1, padding=2),  # Conv3\n",
    "            nn.ReLU(),\n",
    "            nn.BatchNorm2d(16),\n",
    "            nn.Conv2d(16, 32, kernel_size=5, stride=1, padding=2),  # Conv4\n",
    "            nn.ReLU(),\n",
    "            nn.BatchNorm2d(32),\n",
    "            nn.Conv2d(32, 64, kernel_size=5, stride=1, padding=2),  # Conv5\n",
    "            nn.ReLU(),\n",
    "            nn.BatchNorm2d(64),\n",
    "            nn.Conv2d(64, 128, kernel_size=5, stride=1, padding=2),  # Conv6\n",
    "            nn.ReLU(),\n",
    "            nn.BatchNorm2d(128),\n",
    "            nn.Conv2d(128, 32, kernel_size=5, stride=1, padding=2),  # Conv7\n",
    "            nn.ReLU(),\n",
    "            nn.BatchNorm2d(32),\n",
    "            nn.Conv2d(32, 8, kernel_size=5, stride=1, padding=2),  # Conv8\n",
    "            nn.ReLU(),\n",
    "            nn.BatchNorm2d(8),\n",
    "            nn.Conv2d(8, 1, kernel_size=5, stride=1, padding=2),  # Conv9\n",
    "            nn.ReLU(),\n",
    "            nn.BatchNorm2d(1),\n",
    "        )\n",
    "        self.flatten = nn.Flatten()\n",
    "        self.fc = nn.Linear(1 * 64 * 64, 2 * 64 * 64)  # adjust accordingly\n",
    "\n",
    "    def forward(self, x):\n",
    "        x = self.features(x)\n",
    "        x = self.flatten(x)\n",
    "        x = self.fc(x)\n",
    "        x = x.view(-1, 2, 64, 64)  # Reshape back to expected output dimensions\n",
    "        return x"
   ]
  },
  {
   "cell_type": "code",
   "execution_count": 43,
   "metadata": {},
   "outputs": [],
   "source": [
    "NUM_EPOCHS = 15"
   ]
  },
  {
   "cell_type": "markdown",
   "metadata": {},
   "source": [
    "### MSE Loss"
   ]
  },
  {
   "cell_type": "code",
   "execution_count": 44,
   "metadata": {},
   "outputs": [],
   "source": [
    "torch.manual_seed(42)\n",
    "model = CNN().to(device)\n",
    "optimizer = optim.Adam(model.parameters(), lr=1e-4, betas=(0.9, 0.999))"
   ]
  },
  {
   "cell_type": "code",
   "execution_count": 45,
   "metadata": {},
   "outputs": [
    {
     "name": "stderr",
     "output_type": "stream",
     "text": [
      "Epoch 1/15: 100%|██████████| 79/79 [00:38<00:00,  2.07it/s]\n",
      "Testing: 100%|██████████| 16/16 [00:05<00:00,  3.13it/s]\n"
     ]
    },
    {
     "name": "stdout",
     "output_type": "stream",
     "text": [
      "Epoch 1, Train Loss: 0.004839863885500005, Validation Loss: 0.0004022653613771711\n"
     ]
    },
    {
     "name": "stderr",
     "output_type": "stream",
     "text": [
      "Epoch 2/15: 100%|██████████| 79/79 [00:39<00:00,  1.98it/s]\n",
      "Testing: 100%|██████████| 16/16 [00:05<00:00,  2.72it/s]\n"
     ]
    },
    {
     "name": "stdout",
     "output_type": "stream",
     "text": [
      "Epoch 2, Train Loss: 0.0004100222912153616, Validation Loss: 0.0002818552140707445\n"
     ]
    },
    {
     "name": "stderr",
     "output_type": "stream",
     "text": [
      "Epoch 3/15: 100%|██████████| 79/79 [00:41<00:00,  1.90it/s]\n",
      "Testing: 100%|██████████| 16/16 [00:06<00:00,  2.58it/s]\n"
     ]
    },
    {
     "name": "stdout",
     "output_type": "stream",
     "text": [
      "Epoch 3, Train Loss: 0.00030146666312059345, Validation Loss: 0.00025159887642272423\n"
     ]
    },
    {
     "name": "stderr",
     "output_type": "stream",
     "text": [
      "Epoch 4/15: 100%|██████████| 79/79 [00:40<00:00,  1.93it/s]\n",
      "Testing: 100%|██████████| 16/16 [00:05<00:00,  3.15it/s]\n"
     ]
    },
    {
     "name": "stdout",
     "output_type": "stream",
     "text": [
      "Epoch 4, Train Loss: 0.0002718120957342323, Validation Loss: 0.0002541879504832752\n"
     ]
    },
    {
     "name": "stderr",
     "output_type": "stream",
     "text": [
      "Epoch 5/15: 100%|██████████| 79/79 [00:37<00:00,  2.08it/s]\n",
      "Testing: 100%|██████████| 16/16 [00:05<00:00,  3.10it/s]\n"
     ]
    },
    {
     "name": "stdout",
     "output_type": "stream",
     "text": [
      "Epoch 5, Train Loss: 0.00025959610916530165, Validation Loss: 0.0002116425282907992\n"
     ]
    },
    {
     "name": "stderr",
     "output_type": "stream",
     "text": [
      "Epoch 6/15: 100%|██████████| 79/79 [00:38<00:00,  2.08it/s]\n",
      "Testing: 100%|██████████| 16/16 [00:05<00:00,  3.11it/s]\n"
     ]
    },
    {
     "name": "stdout",
     "output_type": "stream",
     "text": [
      "Epoch 6, Train Loss: 0.000253888384938456, Validation Loss: 0.0002164338925731113\n"
     ]
    },
    {
     "name": "stderr",
     "output_type": "stream",
     "text": [
      "Epoch 7/15: 100%|██████████| 79/79 [00:38<00:00,  2.07it/s]\n",
      "Testing: 100%|██████████| 16/16 [00:05<00:00,  3.12it/s]\n"
     ]
    },
    {
     "name": "stdout",
     "output_type": "stream",
     "text": [
      "Epoch 7, Train Loss: 0.0002490349851800624, Validation Loss: 0.00020354369054746213\n"
     ]
    },
    {
     "name": "stderr",
     "output_type": "stream",
     "text": [
      "Epoch 8/15: 100%|██████████| 79/79 [00:38<00:00,  2.07it/s]\n",
      "Testing: 100%|██████████| 16/16 [00:05<00:00,  3.15it/s]\n"
     ]
    },
    {
     "name": "stdout",
     "output_type": "stream",
     "text": [
      "Epoch 8, Train Loss: 0.00025262146387339214, Validation Loss: 0.00019595617946222943\n"
     ]
    },
    {
     "name": "stderr",
     "output_type": "stream",
     "text": [
      "Epoch 9/15: 100%|██████████| 79/79 [00:38<00:00,  2.06it/s]\n",
      "Testing: 100%|██████████| 16/16 [00:05<00:00,  3.11it/s]\n"
     ]
    },
    {
     "name": "stdout",
     "output_type": "stream",
     "text": [
      "Epoch 9, Train Loss: 0.0002416054203044533, Validation Loss: 0.00019642501857318703\n"
     ]
    },
    {
     "name": "stderr",
     "output_type": "stream",
     "text": [
      "Epoch 10/15: 100%|██████████| 79/79 [00:38<00:00,  2.05it/s]\n",
      "Testing: 100%|██████████| 16/16 [00:05<00:00,  3.12it/s]\n"
     ]
    },
    {
     "name": "stdout",
     "output_type": "stream",
     "text": [
      "Epoch 10, Train Loss: 0.0002422984959422678, Validation Loss: 0.00019581232877973194\n"
     ]
    },
    {
     "name": "stderr",
     "output_type": "stream",
     "text": [
      "Epoch 11/15: 100%|██████████| 79/79 [00:41<00:00,  1.92it/s]\n",
      "Testing: 100%|██████████| 16/16 [00:05<00:00,  2.68it/s]\n"
     ]
    },
    {
     "name": "stdout",
     "output_type": "stream",
     "text": [
      "Epoch 11, Train Loss: 0.00024073673952100934, Validation Loss: 0.000194519740245287\n"
     ]
    },
    {
     "name": "stderr",
     "output_type": "stream",
     "text": [
      "Epoch 12/15: 100%|██████████| 79/79 [00:43<00:00,  1.80it/s]\n",
      "Testing: 100%|██████████| 16/16 [00:06<00:00,  2.54it/s]\n"
     ]
    },
    {
     "name": "stdout",
     "output_type": "stream",
     "text": [
      "Epoch 12, Train Loss: 0.00023804342909603592, Validation Loss: 0.00019411828358114686\n"
     ]
    },
    {
     "name": "stderr",
     "output_type": "stream",
     "text": [
      "Epoch 13/15: 100%|██████████| 79/79 [00:43<00:00,  1.80it/s]\n",
      "Testing: 100%|██████████| 16/16 [00:06<00:00,  2.49it/s]\n"
     ]
    },
    {
     "name": "stdout",
     "output_type": "stream",
     "text": [
      "Epoch 13, Train Loss: 0.00023176172244304046, Validation Loss: 0.00020115681956288438\n"
     ]
    },
    {
     "name": "stderr",
     "output_type": "stream",
     "text": [
      "Epoch 14/15: 100%|██████████| 79/79 [00:43<00:00,  1.81it/s]\n",
      "Testing: 100%|██████████| 16/16 [00:06<00:00,  2.57it/s]\n"
     ]
    },
    {
     "name": "stdout",
     "output_type": "stream",
     "text": [
      "Epoch 14, Train Loss: 0.00023329805173339762, Validation Loss: 0.00020781824451558377\n"
     ]
    },
    {
     "name": "stderr",
     "output_type": "stream",
     "text": [
      "Epoch 15/15: 100%|██████████| 79/79 [00:43<00:00,  1.83it/s]\n",
      "Testing: 100%|██████████| 16/16 [00:06<00:00,  2.55it/s]"
     ]
    },
    {
     "name": "stdout",
     "output_type": "stream",
     "text": [
      "Epoch 15, Train Loss: 0.0002355717250780351, Validation Loss: 0.0001986958194365833\n",
      "Finished Training\n"
     ]
    },
    {
     "name": "stderr",
     "output_type": "stream",
     "text": [
      "\n"
     ]
    }
   ],
   "source": [
    "torch.manual_seed(42)\n",
    "train_losses = []\n",
    "test_losses = []\n",
    "criterion1 = nn.MSELoss()\n",
    "\n",
    "for epoch in range(NUM_EPOCHS):\n",
    "    running_loss = 0.0\n",
    "    test_loss = 0.0\n",
    "\n",
    "    # Training loop\n",
    "    model.train()\n",
    "    for _, l_channels, _, _, ab_channels in tqdm(small_train_loader, desc=f'Epoch {epoch + 1}/{NUM_EPOCHS}', leave=True):\n",
    "        l_channels, ab_channels = l_channels.to(device), ab_channels.to(device)\n",
    "\n",
    "        optimizer.zero_grad()\n",
    "        outputs = model(l_channels)\n",
    "        loss = criterion1(outputs, ab_channels)\n",
    "        loss.backward()\n",
    "        optimizer.step()\n",
    "\n",
    "        running_loss += loss.item()\n",
    "\n",
    "    # scheduler.step()  # Update the scheduler\n",
    "    train_losses.append(running_loss / len(train_loader))\n",
    "\n",
    "    # Testing loop\n",
    "    model.eval()\n",
    "    with torch.no_grad():\n",
    "        for _, l_channels, _, _, ab_channels in tqdm(small_test_loader, desc='Testing', leave=True):\n",
    "            l_channels, ab_channels = l_channels.to(device), ab_channels.to(device)\n",
    "            outputs = model(l_channels)\n",
    "            loss = criterion1(outputs, ab_channels)\n",
    "            test_loss += loss.item()\n",
    "\n",
    "    test_losses.append(test_loss / len(test_loader))\n",
    "\n",
    "    # Print training and validation losses\n",
    "    print(f\"Epoch {epoch + 1}, Train Loss: {train_losses[-1]}, Validation Loss: {test_losses[-1]}\")\n",
    "\n",
    "print('Finished Training')"
   ]
  },
  {
   "cell_type": "code",
   "execution_count": 46,
   "metadata": {},
   "outputs": [
    {
     "data": {
      "image/png": "[encoded data removed]",
      "text/plain": [
       "<Figure size 1000x600 with 1 Axes>"
      ]
     },
     "metadata": {},
     "output_type": "display_data"
    }
   ],
   "source": [
    "plt.figure(figsize=(10, 6))\n",
    "plt.plot(train_losses, label='train')\n",
    "plt.plot(test_losses, label='test')\n",
    "plt.xlabel('Epoch')\n",
    "plt.ylabel('Loss')\n",
    "plt.grid(linestyle = \"--\")\n",
    "plt.legend()\n",
    "plt.show()"
   ]
  },
  {
   "cell_type": "code",
   "execution_count": 47,
   "metadata": {},
   "outputs": [
    {
     "data": {
      "image/png": "[encoded data removed]",
      "text/plain": [
       "<Figure size 600x600 with 1 Axes>"
      ]
     },
     "metadata": {},
     "output_type": "display_data"
    }
   ],
   "source": [
    "input = dataset[7653][1].to(device).unsqueeze(0)\n",
    "ab = model(input).squeeze(0)\n",
    "reconstruct_lab(dataset[7653][1].to(device).detach().cpu(), ab.detach().cpu())"
   ]
  },
  {
   "cell_type": "code",
   "execution_count": 48,
   "metadata": {},
   "outputs": [
    {
     "name": "stdout",
     "output_type": "stream",
     "text": [
      "Model saved to models\\CNN_MSELoss.pth successfully!\n"
     ]
    }
   ],
   "source": [
    "save_model(model, \"CNN_MSELoss\")"
   ]
  },
  {
   "cell_type": "code",
   "execution_count": 49,
   "metadata": {},
   "outputs": [
    {
     "name": "stdout",
     "output_type": "stream",
     "text": [
      "CNN model loaded successfully!\n"
     ]
    }
   ],
   "source": [
    "loaded_model1 = load_model(CNN(), \"models/CNN_MSELoss.pth\").to(device)"
   ]
  },
  {
   "cell_type": "code",
   "execution_count": 50,
   "metadata": {},
   "outputs": [
    {
     "name": "stdout",
     "output_type": "stream",
     "text": [
      "Average MSE: 0.0032\n",
      "Average PSNR: 49.8902\n"
     ]
    }
   ],
   "source": [
    "torch.manual_seed(42)\n",
    "loaded_model1.eval()\n",
    "\n",
    "total_mse = 0\n",
    "total_psnr = 0\n",
    "num_samples = 0\n",
    "\n",
    "with torch.no_grad():\n",
    "    for _, l_channels, _, _, ab_channels in small_test_loader:\n",
    "        l_channels = l_channels.to(device)\n",
    "        ab_channels = ab_channels.to(device)\n",
    "\n",
    "        ab_preds = loaded_model1(l_channels)\n",
    "\n",
    "        mse = F.mse_loss(ab_preds, ab_channels)\n",
    "        total_mse += mse.item() * ab_channels.size(0)\n",
    "\n",
    "        max_pixel_value = 1.0  # image values are between 0 and 1\n",
    "        psnr = 20 * torch.log10(max_pixel_value**2 / mse)\n",
    "        total_psnr += psnr.item() * ab_channels.size(0)\n",
    "\n",
    "        num_samples += ab_channels.size(0)\n",
    "\n",
    "avg_mse = total_mse / num_samples\n",
    "avg_psnr = total_psnr / num_samples\n",
    "\n",
    "print(f\"Average MSE: {avg_mse:.4f}\")\n",
    "print(f\"Average PSNR: {avg_psnr:.4f}\")"
   ]
  },
  {
   "cell_type": "markdown",
   "metadata": {},
   "source": [
    "### L1 Loss"
   ]
  },
  {
   "cell_type": "code",
   "execution_count": 51,
   "metadata": {},
   "outputs": [],
   "source": [
    "torch.manual_seed(42)\n",
    "model = CNN().to(device)\n",
    "optimizer = optim.Adam(model.parameters(), lr=1e-4, betas=(0.9, 0.999))"
   ]
  },
  {
   "cell_type": "code",
   "execution_count": 52,
   "metadata": {},
   "outputs": [
    {
     "name": "stderr",
     "output_type": "stream",
     "text": [
      "Epoch 1/15: 100%|██████████| 79/79 [00:40<00:00,  1.97it/s]\n",
      "Testing: 100%|██████████| 16/16 [00:05<00:00,  3.03it/s]\n"
     ]
    },
    {
     "name": "stdout",
     "output_type": "stream",
     "text": [
      "Epoch 1, Train Loss: 0.010877818005960344, Validation Loss: 0.0028675440626945276\n"
     ]
    },
    {
     "name": "stderr",
     "output_type": "stream",
     "text": [
      "Epoch 2/15: 100%|██████████| 79/79 [00:39<00:00,  1.98it/s]\n",
      "Testing: 100%|██████████| 16/16 [00:05<00:00,  2.89it/s]\n"
     ]
    },
    {
     "name": "stdout",
     "output_type": "stream",
     "text": [
      "Epoch 2, Train Loss: 0.0031171747703771084, Validation Loss: 0.002579914902167891\n"
     ]
    },
    {
     "name": "stderr",
     "output_type": "stream",
     "text": [
      "Epoch 3/15: 100%|██████████| 79/79 [00:38<00:00,  2.04it/s]\n",
      "Testing: 100%|██████████| 16/16 [00:05<00:00,  2.95it/s]\n"
     ]
    },
    {
     "name": "stdout",
     "output_type": "stream",
     "text": [
      "Epoch 3, Train Loss: 0.002982604723189764, Validation Loss: 0.002515477203839534\n"
     ]
    },
    {
     "name": "stderr",
     "output_type": "stream",
     "text": [
      "Epoch 4/15: 100%|██████████| 79/79 [00:38<00:00,  2.07it/s]\n",
      "Testing: 100%|██████████| 16/16 [00:05<00:00,  3.12it/s]\n"
     ]
    },
    {
     "name": "stdout",
     "output_type": "stream",
     "text": [
      "Epoch 4, Train Loss: 0.0029455114713901483, Validation Loss: 0.0025518674072611746\n"
     ]
    },
    {
     "name": "stderr",
     "output_type": "stream",
     "text": [
      "Epoch 5/15: 100%|██████████| 79/79 [00:38<00:00,  2.05it/s]\n",
      "Testing: 100%|██████████| 16/16 [00:05<00:00,  3.13it/s]\n"
     ]
    },
    {
     "name": "stdout",
     "output_type": "stream",
     "text": [
      "Epoch 5, Train Loss: 0.002943876090545009, Validation Loss: 0.002615086777444972\n"
     ]
    },
    {
     "name": "stderr",
     "output_type": "stream",
     "text": [
      "Epoch 6/15: 100%|██████████| 79/79 [00:38<00:00,  2.07it/s]\n",
      "Testing: 100%|██████████| 16/16 [00:05<00:00,  3.12it/s]\n"
     ]
    },
    {
     "name": "stdout",
     "output_type": "stream",
     "text": [
      "Epoch 6, Train Loss: 0.0029147215943405593, Validation Loss: 0.002476086012990318\n"
     ]
    },
    {
     "name": "stderr",
     "output_type": "stream",
     "text": [
      "Epoch 7/15: 100%|██████████| 79/79 [00:38<00:00,  2.06it/s]\n",
      "Testing: 100%|██████████| 16/16 [00:05<00:00,  3.14it/s]\n"
     ]
    },
    {
     "name": "stdout",
     "output_type": "stream",
     "text": [
      "Epoch 7, Train Loss: 0.0028924064377799704, Validation Loss: 0.00241786939124343\n"
     ]
    },
    {
     "name": "stderr",
     "output_type": "stream",
     "text": [
      "Epoch 8/15: 100%|██████████| 79/79 [00:38<00:00,  2.07it/s]\n",
      "Testing: 100%|██████████| 16/16 [00:05<00:00,  3.13it/s]\n"
     ]
    },
    {
     "name": "stdout",
     "output_type": "stream",
     "text": [
      "Epoch 8, Train Loss: 0.002905570834443189, Validation Loss: 0.0024565720218719203\n"
     ]
    },
    {
     "name": "stderr",
     "output_type": "stream",
     "text": [
      "Epoch 9/15: 100%|██████████| 79/79 [00:38<00:00,  2.07it/s]\n",
      "Testing: 100%|██████████| 16/16 [00:05<00:00,  3.10it/s]\n"
     ]
    },
    {
     "name": "stdout",
     "output_type": "stream",
     "text": [
      "Epoch 9, Train Loss: 0.0028750261822760395, Validation Loss: 0.0024101923446397523\n"
     ]
    },
    {
     "name": "stderr",
     "output_type": "stream",
     "text": [
      "Epoch 10/15: 100%|██████████| 79/79 [00:38<00:00,  2.07it/s]\n",
      "Testing: 100%|██████████| 16/16 [00:05<00:00,  3.15it/s]\n"
     ]
    },
    {
     "name": "stdout",
     "output_type": "stream",
     "text": [
      "Epoch 10, Train Loss: 0.002876082010531195, Validation Loss: 0.0024381203569730737\n"
     ]
    },
    {
     "name": "stderr",
     "output_type": "stream",
     "text": [
      "Epoch 11/15: 100%|██████████| 79/79 [00:38<00:00,  2.07it/s]\n",
      "Testing: 100%|██████████| 16/16 [00:05<00:00,  3.14it/s]\n"
     ]
    },
    {
     "name": "stdout",
     "output_type": "stream",
     "text": [
      "Epoch 11, Train Loss: 0.002874705728125457, Validation Loss: 0.002368933014197699\n"
     ]
    },
    {
     "name": "stderr",
     "output_type": "stream",
     "text": [
      "Epoch 12/15: 100%|██████████| 79/79 [00:38<00:00,  2.07it/s]\n",
      "Testing: 100%|██████████| 16/16 [00:05<00:00,  3.12it/s]\n"
     ]
    },
    {
     "name": "stdout",
     "output_type": "stream",
     "text": [
      "Epoch 12, Train Loss: 0.0028611226862179486, Validation Loss: 0.0023850915543591196\n"
     ]
    },
    {
     "name": "stderr",
     "output_type": "stream",
     "text": [
      "Epoch 13/15: 100%|██████████| 79/79 [00:38<00:00,  2.05it/s]\n",
      "Testing: 100%|██████████| 16/16 [00:05<00:00,  3.10it/s]\n"
     ]
    },
    {
     "name": "stdout",
     "output_type": "stream",
     "text": [
      "Epoch 13, Train Loss: 0.0028361484912282605, Validation Loss: 0.0024152678441126834\n"
     ]
    },
    {
     "name": "stderr",
     "output_type": "stream",
     "text": [
      "Epoch 14/15: 100%|██████████| 79/79 [00:38<00:00,  2.06it/s]\n",
      "Testing: 100%|██████████| 16/16 [00:05<00:00,  3.14it/s]\n"
     ]
    },
    {
     "name": "stdout",
     "output_type": "stream",
     "text": [
      "Epoch 14, Train Loss: 0.0028430810711090114, Validation Loss: 0.0023736026152450605\n"
     ]
    },
    {
     "name": "stderr",
     "output_type": "stream",
     "text": [
      "Epoch 15/15: 100%|██████████| 79/79 [00:38<00:00,  2.06it/s]\n",
      "Testing: 100%|██████████| 16/16 [00:05<00:00,  3.13it/s]"
     ]
    },
    {
     "name": "stdout",
     "output_type": "stream",
     "text": [
      "Epoch 15, Train Loss: 0.00283956340185686, Validation Loss: 0.00241447172512419\n",
      "Finished Training\n"
     ]
    },
    {
     "name": "stderr",
     "output_type": "stream",
     "text": [
      "\n"
     ]
    }
   ],
   "source": [
    "torch.manual_seed(42)\n",
    "train_losses = []\n",
    "test_losses = []\n",
    "criterion2 = nn.L1Loss()\n",
    "\n",
    "for epoch in range(NUM_EPOCHS):\n",
    "    running_loss = 0.0\n",
    "    test_loss = 0.0\n",
    "\n",
    "    # Training loop\n",
    "    model.train()\n",
    "    for _, l_channels, _, _, ab_channels in tqdm(small_train_loader, desc=f'Epoch {epoch + 1}/{NUM_EPOCHS}', leave=True):\n",
    "        l_channels, ab_channels = l_channels.to(device), ab_channels.to(device)\n",
    "\n",
    "        optimizer.zero_grad()\n",
    "        outputs = model(l_channels)\n",
    "        loss = criterion2(outputs, ab_channels)\n",
    "        loss.backward()\n",
    "        optimizer.step()\n",
    "\n",
    "        running_loss += loss.item()\n",
    "\n",
    "    # scheduler.step()  # Update the scheduler\n",
    "    train_losses.append(running_loss / len(train_loader))\n",
    "\n",
    "    # Testing loop\n",
    "    model.eval()\n",
    "    with torch.no_grad():\n",
    "        for _, l_channels, _, _, ab_channels in tqdm(small_test_loader, desc='Testing', leave=True):\n",
    "            l_channels, ab_channels = l_channels.to(device), ab_channels.to(device)\n",
    "            outputs = model(l_channels)\n",
    "            loss = criterion2(outputs, ab_channels)\n",
    "            test_loss += loss.item()\n",
    "\n",
    "    test_losses.append(test_loss / len(test_loader))\n",
    "\n",
    "    # Print training and validation losses\n",
    "    print(f\"Epoch {epoch + 1}, Train Loss: {train_losses[-1]}, Validation Loss: {test_losses[-1]}\")\n",
    "\n",
    "print('Finished Training')"
   ]
  },
  {
   "cell_type": "code",
   "execution_count": 53,
   "metadata": {},
   "outputs": [
    {
     "data": {
      "image/png": "[encoded data removed]",
      "text/plain": [
       "<Figure size 1000x600 with 1 Axes>"
      ]
     },
     "metadata": {},
     "output_type": "display_data"
    }
   ],
   "source": [
    "plt.figure(figsize=(10, 6))\n",
    "plt.plot(train_losses, label='train')\n",
    "plt.plot(test_losses, label='test')\n",
    "plt.xlabel('Epoch')\n",
    "plt.ylabel('Loss')\n",
    "plt.grid(linestyle = \"--\")\n",
    "plt.legend()\n",
    "plt.show()"
   ]
  },
  {
   "cell_type": "code",
   "execution_count": 54,
   "metadata": {},
   "outputs": [
    {
     "data": {
      "image/png": "[encoded data removed]",
      "text/plain": [
       "<Figure size 600x600 with 1 Axes>"
      ]
     },
     "metadata": {},
     "output_type": "display_data"
    }
   ],
   "source": [
    "input = dataset[7653][1].to(device).unsqueeze(0)\n",
    "ab = model(input).squeeze(0)\n",
    "reconstruct_lab(dataset[7653][1].to(device).detach().cpu(), ab.detach().cpu())"
   ]
  },
  {
   "cell_type": "code",
   "execution_count": 55,
   "metadata": {},
   "outputs": [
    {
     "name": "stdout",
     "output_type": "stream",
     "text": [
      "Model saved to models\\CNN_L1Loss.pth successfully!\n"
     ]
    }
   ],
   "source": [
    "save_model(model, \"CNN_L1Loss\")"
   ]
  },
  {
   "cell_type": "code",
   "execution_count": 56,
   "metadata": {},
   "outputs": [
    {
     "name": "stdout",
     "output_type": "stream",
     "text": [
      "CNN model loaded successfully!\n"
     ]
    }
   ],
   "source": [
    "loaded_model2 = load_model(CNN(), \"models/CNN_L1Loss.pth\").to(device)"
   ]
  },
  {
   "cell_type": "code",
   "execution_count": 57,
   "metadata": {},
   "outputs": [
    {
     "name": "stdout",
     "output_type": "stream",
     "text": [
      "Average MSE: 0.0033\n",
      "Average PSNR: 49.6637\n"
     ]
    }
   ],
   "source": [
    "torch.manual_seed(42)\n",
    "loaded_model2.eval()\n",
    "\n",
    "total_mse = 0\n",
    "total_psnr = 0\n",
    "num_samples = 0\n",
    "\n",
    "with torch.no_grad():\n",
    "    for _, l_channels, _, _, ab_channels in small_test_loader:\n",
    "        l_channels = l_channels.to(device)\n",
    "        ab_channels = ab_channels.to(device)\n",
    "\n",
    "        ab_preds = loaded_model2(l_channels)\n",
    "\n",
    "        mse = F.mse_loss(ab_preds, ab_channels)\n",
    "        total_mse += mse.item() * ab_channels.size(0)\n",
    "\n",
    "        max_pixel_value = 1.0  # image values are between 0 and 1\n",
    "        psnr = 20 * torch.log10(max_pixel_value**2 / mse)\n",
    "        total_psnr += psnr.item() * ab_channels.size(0)\n",
    "\n",
    "        num_samples += ab_channels.size(0)\n",
    "\n",
    "avg_mse = total_mse / num_samples\n",
    "avg_psnr = total_psnr / num_samples\n",
    "\n",
    "print(f\"Average MSE: {avg_mse:.4f}\")\n",
    "print(f\"Average PSNR: {avg_psnr:.4f}\")"
   ]
  },
  {
   "cell_type": "markdown",
   "metadata": {},
   "source": [
    "### Smooth L1 loss"
   ]
  },
  {
   "cell_type": "code",
   "execution_count": 58,
   "metadata": {},
   "outputs": [],
   "source": [
    "torch.manual_seed(42)\n",
    "\n",
    "model = CNN().to(device)\n",
    "optimizer = optim.Adam(model.parameters(), lr=1e-4, betas=(0.9, 0.999))"
   ]
  },
  {
   "cell_type": "code",
   "execution_count": 59,
   "metadata": {},
   "outputs": [
    {
     "name": "stderr",
     "output_type": "stream",
     "text": [
      "Epoch 1/15: 100%|██████████| 79/79 [00:38<00:00,  2.07it/s]\n",
      "Testing: 100%|██████████| 16/16 [00:05<00:00,  3.11it/s]\n"
     ]
    },
    {
     "name": "stdout",
     "output_type": "stream",
     "text": [
      "Epoch 1, Train Loss: 0.002830648135083417, Validation Loss: 0.0001388896071499494\n"
     ]
    },
    {
     "name": "stderr",
     "output_type": "stream",
     "text": [
      "Epoch 2/15: 100%|██████████| 79/79 [00:38<00:00,  2.07it/s]\n",
      "Testing: 100%|██████████| 16/16 [00:05<00:00,  3.15it/s]\n"
     ]
    },
    {
     "name": "stdout",
     "output_type": "stream",
     "text": [
      "Epoch 2, Train Loss: 0.0001483574387019023, Validation Loss: 0.00011229651492865734\n"
     ]
    },
    {
     "name": "stderr",
     "output_type": "stream",
     "text": [
      "Epoch 3/15: 100%|██████████| 79/79 [00:38<00:00,  2.07it/s]\n",
      "Testing: 100%|██████████| 16/16 [00:05<00:00,  3.12it/s]\n"
     ]
    },
    {
     "name": "stdout",
     "output_type": "stream",
     "text": [
      "Epoch 3, Train Loss: 0.00013277501391993773, Validation Loss: 0.00010430103691086231\n"
     ]
    },
    {
     "name": "stderr",
     "output_type": "stream",
     "text": [
      "Epoch 4/15: 100%|██████████| 79/79 [00:38<00:00,  2.06it/s]\n",
      "Testing: 100%|██████████| 16/16 [00:05<00:00,  3.11it/s]\n"
     ]
    },
    {
     "name": "stdout",
     "output_type": "stream",
     "text": [
      "Epoch 4, Train Loss: 0.00012539389828930875, Validation Loss: 0.00010300368838314269\n"
     ]
    },
    {
     "name": "stderr",
     "output_type": "stream",
     "text": [
      "Epoch 5/15: 100%|██████████| 79/79 [00:37<00:00,  2.08it/s]\n",
      "Testing: 100%|██████████| 16/16 [00:05<00:00,  3.18it/s]\n"
     ]
    },
    {
     "name": "stdout",
     "output_type": "stream",
     "text": [
      "Epoch 5, Train Loss: 0.0001240088522281264, Validation Loss: 0.000105739789151921\n"
     ]
    },
    {
     "name": "stderr",
     "output_type": "stream",
     "text": [
      "Epoch 6/15: 100%|██████████| 79/79 [00:38<00:00,  2.08it/s]\n",
      "Testing: 100%|██████████| 16/16 [00:05<00:00,  3.08it/s]\n"
     ]
    },
    {
     "name": "stdout",
     "output_type": "stream",
     "text": [
      "Epoch 6, Train Loss: 0.0001221459370178445, Validation Loss: 0.00010420696209382596\n"
     ]
    },
    {
     "name": "stderr",
     "output_type": "stream",
     "text": [
      "Epoch 7/15: 100%|██████████| 79/79 [00:38<00:00,  2.06it/s]\n",
      "Testing: 100%|██████████| 16/16 [00:05<00:00,  3.10it/s]\n"
     ]
    },
    {
     "name": "stdout",
     "output_type": "stream",
     "text": [
      "Epoch 7, Train Loss: 0.00012260266716911453, Validation Loss: 0.00010123214474070141\n"
     ]
    },
    {
     "name": "stderr",
     "output_type": "stream",
     "text": [
      "Epoch 8/15: 100%|██████████| 79/79 [00:38<00:00,  2.07it/s]\n",
      "Testing: 100%|██████████| 16/16 [00:05<00:00,  3.12it/s]\n"
     ]
    },
    {
     "name": "stdout",
     "output_type": "stream",
     "text": [
      "Epoch 8, Train Loss: 0.00012201366952849903, Validation Loss: 0.00010319653193692903\n"
     ]
    },
    {
     "name": "stderr",
     "output_type": "stream",
     "text": [
      "Epoch 9/15: 100%|██████████| 79/79 [00:38<00:00,  2.06it/s]\n",
      "Testing: 100%|██████████| 16/16 [00:05<00:00,  3.15it/s]\n"
     ]
    },
    {
     "name": "stdout",
     "output_type": "stream",
     "text": [
      "Epoch 9, Train Loss: 0.00012050736346844458, Validation Loss: 9.871723578027432e-05\n"
     ]
    },
    {
     "name": "stderr",
     "output_type": "stream",
     "text": [
      "Epoch 10/15: 100%|██████████| 79/79 [00:38<00:00,  2.07it/s]\n",
      "Testing: 100%|██████████| 16/16 [00:05<00:00,  3.13it/s]\n"
     ]
    },
    {
     "name": "stdout",
     "output_type": "stream",
     "text": [
      "Epoch 10, Train Loss: 0.00011873860474549918, Validation Loss: 0.00010221156841827175\n"
     ]
    },
    {
     "name": "stderr",
     "output_type": "stream",
     "text": [
      "Epoch 11/15: 100%|██████████| 79/79 [00:38<00:00,  2.05it/s]\n",
      "Testing: 100%|██████████| 16/16 [00:05<00:00,  3.01it/s]\n"
     ]
    },
    {
     "name": "stdout",
     "output_type": "stream",
     "text": [
      "Epoch 11, Train Loss: 0.00011936200901883956, Validation Loss: 9.948101558122051e-05\n"
     ]
    },
    {
     "name": "stderr",
     "output_type": "stream",
     "text": [
      "Epoch 12/15: 100%|██████████| 79/79 [00:38<00:00,  2.05it/s]\n",
      "Testing: 100%|██████████| 16/16 [00:05<00:00,  3.10it/s]\n"
     ]
    },
    {
     "name": "stdout",
     "output_type": "stream",
     "text": [
      "Epoch 12, Train Loss: 0.000119139580393507, Validation Loss: 9.758844180571987e-05\n"
     ]
    },
    {
     "name": "stderr",
     "output_type": "stream",
     "text": [
      "Epoch 13/15: 100%|██████████| 79/79 [00:38<00:00,  2.06it/s]\n",
      "Testing: 100%|██████████| 16/16 [00:05<00:00,  3.14it/s]\n"
     ]
    },
    {
     "name": "stdout",
     "output_type": "stream",
     "text": [
      "Epoch 13, Train Loss: 0.00011762718294391741, Validation Loss: 9.807834444876803e-05\n"
     ]
    },
    {
     "name": "stderr",
     "output_type": "stream",
     "text": [
      "Epoch 14/15: 100%|██████████| 79/79 [00:38<00:00,  2.07it/s]\n",
      "Testing: 100%|██████████| 16/16 [00:05<00:00,  3.15it/s]\n"
     ]
    },
    {
     "name": "stdout",
     "output_type": "stream",
     "text": [
      "Epoch 14, Train Loss: 0.00011730479517420709, Validation Loss: 0.00010589170395522504\n"
     ]
    },
    {
     "name": "stderr",
     "output_type": "stream",
     "text": [
      "Epoch 15/15: 100%|██████████| 79/79 [00:38<00:00,  2.07it/s]\n",
      "Testing: 100%|██████████| 16/16 [00:05<00:00,  3.15it/s]"
     ]
    },
    {
     "name": "stdout",
     "output_type": "stream",
     "text": [
      "Epoch 15, Train Loss: 0.00011730464647753515, Validation Loss: 9.980120985592539e-05\n",
      "Finished Training\n"
     ]
    },
    {
     "name": "stderr",
     "output_type": "stream",
     "text": [
      "\n"
     ]
    }
   ],
   "source": [
    "torch.manual_seed(42)\n",
    "train_losses = []\n",
    "test_losses = []\n",
    "criterion3 = nn.SmoothL1Loss()\n",
    "\n",
    "for epoch in range(NUM_EPOCHS):\n",
    "    running_loss = 0.0\n",
    "    test_loss = 0.0\n",
    "\n",
    "    # Training loop\n",
    "    model.train()\n",
    "    for _, l_channels, _, _, ab_channels in tqdm(small_train_loader, desc=f'Epoch {epoch + 1}/{NUM_EPOCHS}', leave=True):\n",
    "        l_channels, ab_channels = l_channels.to(device), ab_channels.to(device)\n",
    "\n",
    "        optimizer.zero_grad()\n",
    "        outputs = model(l_channels)\n",
    "        loss = criterion3(outputs, ab_channels)\n",
    "        loss.backward()\n",
    "        optimizer.step()\n",
    "\n",
    "        running_loss += loss.item()\n",
    "\n",
    "    # scheduler.step()  # Update the scheduler\n",
    "    train_losses.append(running_loss / len(train_loader))\n",
    "\n",
    "    # Testing loop\n",
    "    model.eval()\n",
    "    with torch.no_grad():\n",
    "        for _, l_channels, _, _, ab_channels in tqdm(small_test_loader, desc='Testing', leave=True):\n",
    "            l_channels, ab_channels = l_channels.to(device), ab_channels.to(device)\n",
    "            outputs = model(l_channels)\n",
    "            loss = criterion3(outputs, ab_channels)\n",
    "            test_loss += loss.item()\n",
    "\n",
    "    test_losses.append(test_loss / len(test_loader))\n",
    "\n",
    "    # Print training and validation losses\n",
    "    print(f\"Epoch {epoch + 1}, Train Loss: {train_losses[-1]}, Validation Loss: {test_losses[-1]}\")\n",
    "\n",
    "print('Finished Training')"
   ]
  },
  {
   "cell_type": "code",
   "execution_count": 60,
   "metadata": {},
   "outputs": [
    {
     "data": {
      "image/png": "[encoded data removed]",
      "text/plain": [
       "<Figure size 1000x600 with 1 Axes>"
      ]
     },
     "metadata": {},
     "output_type": "display_data"
    }
   ],
   "source": [
    "plt.figure(figsize=(10, 6))\n",
    "plt.plot(train_losses, label='train')\n",
    "plt.plot(test_losses, label='test')\n",
    "plt.xlabel('Epoch')\n",
    "plt.ylabel('Loss')\n",
    "plt.grid(linestyle = \"--\")\n",
    "plt.legend()\n",
    "plt.show()"
   ]
  },
  {
   "cell_type": "code",
   "execution_count": 61,
   "metadata": {},
   "outputs": [
    {
     "data": {
      "image/png": "[encoded data removed]",
      "text/plain": [
       "<Figure size 600x600 with 1 Axes>"
      ]
     },
     "metadata": {},
     "output_type": "display_data"
    }
   ],
   "source": [
    "input = dataset[7653][1].to(device).unsqueeze(0)\n",
    "ab = model(input).squeeze(0)\n",
    "reconstruct_lab(dataset[7653][1].to(device).detach().cpu(), ab.detach().cpu())"
   ]
  },
  {
   "cell_type": "code",
   "execution_count": 62,
   "metadata": {},
   "outputs": [
    {
     "name": "stdout",
     "output_type": "stream",
     "text": [
      "Model saved to models\\CNN_SmoothL1.pth successfully!\n"
     ]
    }
   ],
   "source": [
    "save_model(model, \"CNN_SmoothL1\")"
   ]
  },
  {
   "cell_type": "code",
   "execution_count": 63,
   "metadata": {},
   "outputs": [
    {
     "name": "stdout",
     "output_type": "stream",
     "text": [
      "CNN model loaded successfully!\n"
     ]
    }
   ],
   "source": [
    "loaded_model3 = load_model(CNN(), \"models/CNN_SmoothL1.pth\").to(device)"
   ]
  },
  {
   "cell_type": "code",
   "execution_count": 64,
   "metadata": {},
   "outputs": [
    {
     "name": "stdout",
     "output_type": "stream",
     "text": [
      "Average MSE: 0.0032\n",
      "Average PSNR: 49.8480\n"
     ]
    }
   ],
   "source": [
    "torch.manual_seed(42)\n",
    "loaded_model3.eval()\n",
    "\n",
    "total_mse = 0\n",
    "total_psnr = 0\n",
    "num_samples = 0\n",
    "\n",
    "with torch.no_grad():\n",
    "    for _, l_channels, _, _, ab_channels in small_test_loader:\n",
    "        l_channels = l_channels.to(device)\n",
    "        ab_channels = ab_channels.to(device)\n",
    "\n",
    "        ab_preds = loaded_model3(l_channels)\n",
    "\n",
    "        mse = F.mse_loss(ab_preds, ab_channels)\n",
    "        total_mse += mse.item() * ab_channels.size(0)\n",
    "\n",
    "        max_pixel_value = 1.0  # image values are between 0 and 1\n",
    "        psnr = 20 * torch.log10(max_pixel_value**2 / mse)\n",
    "        total_psnr += psnr.item() * ab_channels.size(0)\n",
    "\n",
    "        num_samples += ab_channels.size(0)\n",
    "\n",
    "avg_mse = total_mse / num_samples\n",
    "avg_psnr = total_psnr / num_samples\n",
    "\n",
    "print(f\"Average MSE: {avg_mse:.4f}\")\n",
    "print(f\"Average PSNR: {avg_psnr:.4f}\")"
   ]
  },
  {
   "cell_type": "markdown",
   "metadata": {},
   "source": [
    "## Eval"
   ]
  },
  {
   "cell_type": "code",
   "execution_count": 65,
   "metadata": {},
   "outputs": [],
   "source": [
    "# plot_rgb(img[0])\n",
    "# reconstruct_lab(img[1].detach().cpu(), loaded_model1(img[1].to(device)).detach().cpu())\n",
    "# reconstruct_lab(img[1].detach().cpu(), loaded_model2(img[1].to(device)).detach().cpu())\n",
    "# reconstruct_lab(img[1].detach().cpu(), loaded_model3(img[1].to(device)).detach().cpu())"
   ]
  }
 ],
 "metadata": {
  "kernelspec": {
   "display_name": "Colorization",
   "language": "python",
   "name": "python3"
  },
  "language_info": {
   "codemirror_mode": {
    "name": "ipython",
    "version": 3
   },
   "file_extension": ".py",
   "mimetype": "text/x-python",
   "name": "python",
   "nbconvert_exporter": "python",
   "pygments_lexer": "ipython3",
   "version": "3.12.3"
  }
 },
 "nbformat": 4,
 "nbformat_minor": 2
}
