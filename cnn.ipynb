{
 "cells": [
  {
   "cell_type": "markdown",
   "metadata": {},
   "source": [
    "# CNN Model"
   ]
  },
  {
   "cell_type": "markdown",
   "metadata": {},
   "source": [
    "This notebook contains the construction and the evaluations of CNN models for colorization purposes."
   ]
  },
  {
   "cell_type": "code",
   "execution_count": 1,
   "metadata": {},
   "outputs": [],
   "source": [
    "import torch\n",
    "from torch.utils.data import DataLoader, random_split\n",
    "import torchvision.transforms as transforms\n",
    "import matplotlib.pyplot as plt\n",
    "import numpy as np\n",
    "import torch.nn as nn\n",
    "from tqdm import tqdm\n",
    "import torch.optim as optim\n",
    "import torch.nn.functional as F\n",
    "from utils.dataset import CocoDataset\n",
    "from utils.plots import plot_l, plot_a, plot_b, plot_rgb, reconstruct_lab, plot_predicted_image, plot_ab\n",
    "from utils.models import BaselineCNN, save_model, load_model"
   ]
  },
  {
   "cell_type": "code",
   "execution_count": 2,
   "metadata": {},
   "outputs": [
    {
     "data": {
      "text/plain": [
       "'cuda'"
      ]
     },
     "execution_count": 2,
     "metadata": {},
     "output_type": "execute_result"
    }
   ],
   "source": [
    "device = \"cuda\" if torch.cuda.is_available() else \"cpu\"\n",
    "device"
   ]
  },
  {
   "cell_type": "markdown",
   "metadata": {},
   "source": [
    "## Data import"
   ]
  },
  {
   "cell_type": "code",
   "execution_count": 3,
   "metadata": {},
   "outputs": [],
   "source": [
    "transform = transforms.Compose([\n",
    "    transforms.Resize((64, 64)),\n",
    "    transforms.ToTensor(), # tensorization brings image in range [0,1] and space CxHxW\n",
    "])"
   ]
  },
  {
   "cell_type": "code",
   "execution_count": 4,
   "metadata": {},
   "outputs": [
    {
     "name": "stdout",
     "output_type": "stream",
     "text": [
      "Found 82783 images.\n"
     ]
    }
   ],
   "source": [
    "path_sandro = \"coco/images/train2014\"\n",
    "path_diego = \"C:/Users/diego/coco/images/train2014/train2014\"\n",
    "dataset = CocoDataset(root=path_sandro, transform=transform)"
   ]
  },
  {
   "cell_type": "markdown",
   "metadata": {},
   "source": [
    "## Data preparation"
   ]
  },
  {
   "cell_type": "markdown",
   "metadata": {},
   "source": [
    "We split our dataset in train and test data."
   ]
  },
  {
   "cell_type": "code",
   "execution_count": 5,
   "metadata": {},
   "outputs": [],
   "source": [
    "torch.manual_seed(42)\n",
    "test_size = int(0.2 * len(dataset))\n",
    "train_size = len(dataset) - test_size\n",
    "train, test = random_split(dataset, [train_size, test_size], torch.Generator().manual_seed(42))\n",
    "train_loader = DataLoader(train, batch_size=64, shuffle=True)\n",
    "test_loader = DataLoader(test, batch_size=64, shuffle=True)\n",
    "train_size = 5000\n",
    "small_train, _ = random_split(train, [train_size, len(train) - train_size], torch.Generator().manual_seed(42))\n",
    "small_train_loader = DataLoader(small_train, batch_size=64, shuffle=True)\n",
    "test_size = 1000\n",
    "small_test, _ = random_split(test, [test_size, len(test) - test_size], torch.Generator().manual_seed(42))\n",
    "small_test_loader = DataLoader(small_test, batch_size=64, shuffle=True)"
   ]
  },
  {
   "cell_type": "markdown",
   "metadata": {},
   "source": [
    "## CNN Model"
   ]
  },
  {
   "cell_type": "markdown",
   "metadata": {},
   "source": [
    "We will now build a network of 9 convolutional layers, each followed by a ReLU activation and a BatchNorm layer, with vanishing learning rate."
   ]
  },
  {
   "cell_type": "markdown",
   "metadata": {},
   "source": [
    "### Training"
   ]
  },
  {
   "cell_type": "code",
   "execution_count": 6,
   "metadata": {},
   "outputs": [],
   "source": [
    "class CNN(nn.Module):\n",
    "    def __init__(self):\n",
    "        super(CNN, self).__init__()\n",
    "        self.features = nn.Sequential(\n",
    "            nn.Conv2d(1, 4, kernel_size=5, stride=1, padding=2),  # Conv1\n",
    "            nn.ReLU(),\n",
    "            nn.BatchNorm2d(4),\n",
    "            nn.Conv2d(4, 8, kernel_size=5, stride=1, padding=2),  # Conv2\n",
    "            nn.ReLU(),\n",
    "            nn.BatchNorm2d(8),\n",
    "            nn.Conv2d(8, 16, kernel_size=5, stride=1, padding=2),  # Conv3\n",
    "            nn.ReLU(),\n",
    "            nn.BatchNorm2d(16),\n",
    "            nn.Conv2d(16, 32, kernel_size=5, stride=1, padding=2),  # Conv4\n",
    "            nn.ReLU(),\n",
    "            nn.BatchNorm2d(32),\n",
    "            nn.Conv2d(32, 64, kernel_size=5, stride=1, padding=2),  # Conv5\n",
    "            nn.ReLU(),\n",
    "            nn.BatchNorm2d(64),\n",
    "            nn.Conv2d(64, 128, kernel_size=5, stride=1, padding=2),  # Conv6\n",
    "            nn.ReLU(),\n",
    "            nn.BatchNorm2d(128),\n",
    "            nn.Conv2d(128, 32, kernel_size=5, stride=1, padding=2),  # Conv7\n",
    "            nn.ReLU(),\n",
    "            nn.BatchNorm2d(32),\n",
    "            nn.Conv2d(32, 8, kernel_size=5, stride=1, padding=2),  # Conv8\n",
    "            nn.ReLU(),\n",
    "            nn.BatchNorm2d(8),\n",
    "            nn.Conv2d(8, 1, kernel_size=5, stride=1, padding=2),  # Conv9\n",
    "            nn.ReLU(),\n",
    "            nn.BatchNorm2d(1),\n",
    "        )\n",
    "        self.flatten = nn.Flatten()\n",
    "        self.fc = nn.Linear(1 * 64 * 64, 2 * 64 * 64)  # Assuming the input size 64x64, adjust accordingly\n",
    "\n",
    "    def forward(self, x):\n",
    "        x = self.features(x)\n",
    "        x = self.flatten(x)\n",
    "        x = self.fc(x)\n",
    "        x = x.view(-1, 2, 64, 64)  # Reshape back to expected output dimensions\n",
    "        return x"
   ]
  },
  {
   "cell_type": "markdown",
   "metadata": {},
   "source": [
    "### MSE Loss"
   ]
  },
  {
   "cell_type": "code",
   "execution_count": null,
   "metadata": {},
   "outputs": [],
   "source": [
    "model = CNN().to(device)\n",
    "optimizer = optim.Adam(model.parameters(), lr=1e-4, betas=(0.9, 0.999))"
   ]
  },
  {
   "cell_type": "code",
   "execution_count": 8,
   "metadata": {},
   "outputs": [
    {
     "name": "stderr",
     "output_type": "stream",
     "text": [
      "Epoch 1/15: 100%|██████████| 79/79 [00:38<00:00,  2.05it/s]\n",
      "Testing: 100%|██████████| 16/16 [00:05<00:00,  3.13it/s]\n"
     ]
    },
    {
     "name": "stdout",
     "output_type": "stream",
     "text": [
      "Epoch 1, Train Loss: 0.00481525463083588, Validation Loss: 0.00048822691146298725\n"
     ]
    },
    {
     "name": "stderr",
     "output_type": "stream",
     "text": [
      "Epoch 2/15: 100%|██████████| 79/79 [00:37<00:00,  2.08it/s]\n",
      "Testing: 100%|██████████| 16/16 [00:05<00:00,  3.17it/s]\n"
     ]
    },
    {
     "name": "stdout",
     "output_type": "stream",
     "text": [
      "Epoch 2, Train Loss: 0.0004135463649973921, Validation Loss: 0.0002887329090257179\n"
     ]
    },
    {
     "name": "stderr",
     "output_type": "stream",
     "text": [
      "Epoch 3/15: 100%|██████████| 79/79 [00:37<00:00,  2.08it/s]\n",
      "Testing: 100%|██████████| 16/16 [00:05<00:00,  3.17it/s]\n"
     ]
    },
    {
     "name": "stdout",
     "output_type": "stream",
     "text": [
      "Epoch 3, Train Loss: 0.00032480007424446695, Validation Loss: 0.0002648757598057217\n"
     ]
    },
    {
     "name": "stderr",
     "output_type": "stream",
     "text": [
      "Epoch 4/15: 100%|██████████| 79/79 [00:38<00:00,  2.08it/s]\n",
      "Testing: 100%|██████████| 16/16 [00:05<00:00,  3.16it/s]\n"
     ]
    },
    {
     "name": "stdout",
     "output_type": "stream",
     "text": [
      "Epoch 4, Train Loss: 0.00031209470375760456, Validation Loss: 0.0002252195231817864\n"
     ]
    },
    {
     "name": "stderr",
     "output_type": "stream",
     "text": [
      "Epoch 5/15: 100%|██████████| 79/79 [00:38<00:00,  2.07it/s]\n",
      "Testing: 100%|██████████| 16/16 [00:05<00:00,  3.13it/s]\n"
     ]
    },
    {
     "name": "stdout",
     "output_type": "stream",
     "text": [
      "Epoch 5, Train Loss: 0.00028046707753182033, Validation Loss: 0.00021467291081187577\n"
     ]
    },
    {
     "name": "stderr",
     "output_type": "stream",
     "text": [
      "Epoch 6/15: 100%|██████████| 79/79 [00:38<00:00,  2.07it/s]\n",
      "Testing: 100%|██████████| 16/16 [00:05<00:00,  3.16it/s]\n"
     ]
    },
    {
     "name": "stdout",
     "output_type": "stream",
     "text": [
      "Epoch 6, Train Loss: 0.00027116574886916343, Validation Loss: 0.00020907056323723675\n"
     ]
    },
    {
     "name": "stderr",
     "output_type": "stream",
     "text": [
      "Epoch 7/15: 100%|██████████| 79/79 [00:38<00:00,  2.07it/s]\n",
      "Testing: 100%|██████████| 16/16 [00:05<00:00,  3.13it/s]\n"
     ]
    },
    {
     "name": "stdout",
     "output_type": "stream",
     "text": [
      "Epoch 7, Train Loss: 0.0002627557109825421, Validation Loss: 0.0002206344423549516\n"
     ]
    },
    {
     "name": "stderr",
     "output_type": "stream",
     "text": [
      "Epoch 8/15: 100%|██████████| 79/79 [00:38<00:00,  2.08it/s]\n",
      "Testing: 100%|██████████| 16/16 [00:05<00:00,  3.15it/s]\n"
     ]
    },
    {
     "name": "stdout",
     "output_type": "stream",
     "text": [
      "Epoch 8, Train Loss: 0.0002604494046797787, Validation Loss: 0.00021733402662899734\n"
     ]
    },
    {
     "name": "stderr",
     "output_type": "stream",
     "text": [
      "Epoch 9/15: 100%|██████████| 79/79 [00:38<00:00,  2.07it/s]\n",
      "Testing: 100%|██████████| 16/16 [00:05<00:00,  3.13it/s]\n"
     ]
    },
    {
     "name": "stdout",
     "output_type": "stream",
     "text": [
      "Epoch 9, Train Loss: 0.00025714103825354346, Validation Loss: 0.00021716690366965462\n"
     ]
    },
    {
     "name": "stderr",
     "output_type": "stream",
     "text": [
      "Epoch 10/15: 100%|██████████| 79/79 [00:37<00:00,  2.08it/s]\n",
      "Testing: 100%|██████████| 16/16 [00:05<00:00,  3.15it/s]\n"
     ]
    },
    {
     "name": "stdout",
     "output_type": "stream",
     "text": [
      "Epoch 10, Train Loss: 0.00025372772931980624, Validation Loss: 0.00022181967618555175\n"
     ]
    },
    {
     "name": "stderr",
     "output_type": "stream",
     "text": [
      "Epoch 11/15: 100%|██████████| 79/79 [00:38<00:00,  2.06it/s]\n",
      "Testing: 100%|██████████| 16/16 [00:05<00:00,  3.16it/s]\n"
     ]
    },
    {
     "name": "stdout",
     "output_type": "stream",
     "text": [
      "Epoch 11, Train Loss: 0.0002512086189581432, Validation Loss: 0.00020260489401928937\n"
     ]
    },
    {
     "name": "stderr",
     "output_type": "stream",
     "text": [
      "Epoch 12/15: 100%|██████████| 79/79 [00:37<00:00,  2.09it/s]\n",
      "Testing: 100%|██████████| 16/16 [00:05<00:00,  3.18it/s]\n"
     ]
    },
    {
     "name": "stdout",
     "output_type": "stream",
     "text": [
      "Epoch 12, Train Loss: 0.00025646185506909077, Validation Loss: 0.00020169927450939726\n"
     ]
    },
    {
     "name": "stderr",
     "output_type": "stream",
     "text": [
      "Epoch 13/15: 100%|██████████| 79/79 [00:37<00:00,  2.09it/s]\n",
      "Testing: 100%|██████████| 16/16 [00:05<00:00,  3.18it/s]\n"
     ]
    },
    {
     "name": "stdout",
     "output_type": "stream",
     "text": [
      "Epoch 13, Train Loss: 0.00024419581351108884, Validation Loss: 0.00020631585219824637\n"
     ]
    },
    {
     "name": "stderr",
     "output_type": "stream",
     "text": [
      "Epoch 14/15: 100%|██████████| 79/79 [00:38<00:00,  2.07it/s]\n",
      "Testing: 100%|██████████| 16/16 [00:05<00:00,  3.15it/s]\n"
     ]
    },
    {
     "name": "stdout",
     "output_type": "stream",
     "text": [
      "Epoch 14, Train Loss: 0.00025501407363456516, Validation Loss: 0.0002166867907011601\n"
     ]
    },
    {
     "name": "stderr",
     "output_type": "stream",
     "text": [
      "Epoch 15/15: 100%|██████████| 79/79 [00:37<00:00,  2.08it/s]\n",
      "Testing: 100%|██████████| 16/16 [00:05<00:00,  3.18it/s]"
     ]
    },
    {
     "name": "stdout",
     "output_type": "stream",
     "text": [
      "Epoch 15, Train Loss: 0.00024624947134567346, Validation Loss: 0.00021262103997343526\n",
      "Finished Training\n"
     ]
    },
    {
     "name": "stderr",
     "output_type": "stream",
     "text": [
      "\n"
     ]
    }
   ],
   "source": [
    "NUM_EPOCHS = 15\n",
    "train_losses = []\n",
    "test_losses = []\n",
    "criterion1 = nn.MSELoss()\n",
    "\n",
    "for epoch in range(NUM_EPOCHS):\n",
    "    running_loss = 0.0\n",
    "    test_loss = 0.0\n",
    "\n",
    "    # Training loop\n",
    "    model.train()\n",
    "    for _, l_channels, _, _, ab_channels in tqdm(small_train_loader, desc=f'Epoch {epoch + 1}/{NUM_EPOCHS}', leave=True):\n",
    "        l_channels, ab_channels = l_channels.to(device), ab_channels.to(device)\n",
    "\n",
    "        optimizer.zero_grad()\n",
    "        outputs = model(l_channels)\n",
    "        loss = criterion1(outputs, ab_channels)\n",
    "        loss.backward()\n",
    "        optimizer.step()\n",
    "\n",
    "        running_loss += loss.item()\n",
    "\n",
    "    # scheduler.step()  # Update the scheduler\n",
    "    train_losses.append(running_loss / len(train_loader))\n",
    "\n",
    "    # Testing loop\n",
    "    model.eval()\n",
    "    with torch.no_grad():\n",
    "        for _, l_channels, _, _, ab_channels in tqdm(small_test_loader, desc='Testing', leave=True):\n",
    "            l_channels, ab_channels = l_channels.to(device), ab_channels.to(device)\n",
    "            outputs = model(l_channels)\n",
    "            loss = criterion1(outputs, ab_channels)\n",
    "            test_loss += loss.item()\n",
    "\n",
    "    test_losses.append(test_loss / len(test_loader))\n",
    "\n",
    "    # Print training and validation losses\n",
    "    print(f\"Epoch {epoch + 1}, Train Loss: {train_losses[-1]}, Validation Loss: {test_losses[-1]}\")\n",
    "\n",
    "print('Finished Training')"
   ]
  },
  {
   "cell_type": "code",
   "execution_count": 9,
   "metadata": {},
   "outputs": [
    {
     "data": {
      "image/png": "[encoded data removed]",
      "text/plain": [
       "<Figure size 1000x600 with 1 Axes>"
      ]
     },
     "metadata": {},
     "output_type": "display_data"
    }
   ],
   "source": [
    "plt.figure(figsize=(10, 6))\n",
    "plt.plot(train_losses, label='train')\n",
    "plt.plot(test_losses, label='test')\n",
    "plt.xlabel('Epoch')\n",
    "plt.ylabel('Loss')\n",
    "plt.grid(linestyle = \"--\")\n",
    "plt.legend()\n",
    "plt.show()"
   ]
  },
  {
   "cell_type": "code",
   "execution_count": 13,
   "metadata": {},
   "outputs": [
    {
     "data": {
      "image/png": "[encoded data removed]",
      "text/plain": [
       "<Figure size 600x600 with 1 Axes>"
      ]
     },
     "metadata": {},
     "output_type": "display_data"
    }
   ],
   "source": [
    "input = dataset[7653][1].to(device).unsqueeze(0)\n",
    "ab = model(input).squeeze(0)\n",
    "reconstruct_lab(dataset[7653][1].to(device).detach().cpu(), ab.detach().cpu())"
   ]
  },
  {
   "cell_type": "code",
   "execution_count": 14,
   "metadata": {},
   "outputs": [
    {
     "name": "stdout",
     "output_type": "stream",
     "text": [
      "Model saved to models\\CNN_MSELoss.pth successfully!\n"
     ]
    }
   ],
   "source": [
    "save_model(model, \"CNN_MSELoss\")"
   ]
  },
  {
   "cell_type": "code",
   "execution_count": 15,
   "metadata": {},
   "outputs": [
    {
     "name": "stdout",
     "output_type": "stream",
     "text": [
      "CNN model loaded successfully!\n"
     ]
    }
   ],
   "source": [
    "loaded_model1 = load_model(CNN(), \"models/CNN_MSELoss.pth\").to(device)"
   ]
  },
  {
   "cell_type": "code",
   "execution_count": 16,
   "metadata": {},
   "outputs": [
    {
     "data": {
      "text/plain": [
       "device(type='cuda', index=0)"
      ]
     },
     "execution_count": 16,
     "metadata": {},
     "output_type": "execute_result"
    }
   ],
   "source": [
    "next(loaded_model1.parameters()).device # check model is on the right device"
   ]
  },
  {
   "cell_type": "code",
   "execution_count": 17,
   "metadata": {},
   "outputs": [
    {
     "name": "stdout",
     "output_type": "stream",
     "text": [
      "Average MSE: 0.0034\n",
      "Average PSNR: 49.3338\n"
     ]
    }
   ],
   "source": [
    "loaded_model1.eval()\n",
    "\n",
    "total_mse = 0\n",
    "total_psnr = 0\n",
    "num_samples = 0\n",
    "\n",
    "with torch.no_grad():\n",
    "    for _, l_channels, _, _, ab_channels in small_test_loader:\n",
    "        l_channels = l_channels.to(device)\n",
    "        ab_channels = ab_channels.to(device)\n",
    "\n",
    "        ab_preds = loaded_model1(l_channels)\n",
    "\n",
    "        mse = F.mse_loss(ab_preds, ab_channels)\n",
    "        total_mse += mse.item() * ab_channels.size(0)\n",
    "\n",
    "        max_pixel_value = 1.0  # image values are between 0 and 1\n",
    "        psnr = 20 * torch.log10(max_pixel_value**2 / mse)\n",
    "        total_psnr += psnr.item() * ab_channels.size(0)\n",
    "\n",
    "        num_samples += ab_channels.size(0)\n",
    "\n",
    "avg_mse = total_mse / num_samples\n",
    "avg_psnr = total_psnr / num_samples\n",
    "\n",
    "print(f\"Average MSE: {avg_mse:.4f}\")\n",
    "print(f\"Average PSNR: {avg_psnr:.4f}\")"
   ]
  },
  {
   "cell_type": "markdown",
   "metadata": {},
   "source": [
    "### L1 Loss"
   ]
  },
  {
   "cell_type": "code",
   "execution_count": 18,
   "metadata": {},
   "outputs": [],
   "source": [
    "model = CNN().to(device)\n",
    "optimizer = optim.Adam(model.parameters(), lr=1e-4, betas=(0.9, 0.999))"
   ]
  },
  {
   "cell_type": "code",
   "execution_count": 19,
   "metadata": {},
   "outputs": [
    {
     "name": "stderr",
     "output_type": "stream",
     "text": [
      "Epoch 1/15: 100%|██████████| 79/79 [00:38<00:00,  2.06it/s]\n",
      "Testing: 100%|██████████| 16/16 [00:05<00:00,  3.16it/s]\n"
     ]
    },
    {
     "name": "stdout",
     "output_type": "stream",
     "text": [
      "Epoch 1, Train Loss: 0.011981936144656029, Validation Loss: 0.002999647329903017\n"
     ]
    },
    {
     "name": "stderr",
     "output_type": "stream",
     "text": [
      "Epoch 2/15: 100%|██████████| 79/79 [00:37<00:00,  2.09it/s]\n",
      "Testing: 100%|██████████| 16/16 [00:05<00:00,  3.11it/s]\n"
     ]
    },
    {
     "name": "stdout",
     "output_type": "stream",
     "text": [
      "Epoch 2, Train Loss: 0.0032510365372982577, Validation Loss: 0.0028100700682194535\n"
     ]
    },
    {
     "name": "stderr",
     "output_type": "stream",
     "text": [
      "Epoch 3/15: 100%|██████████| 79/79 [00:41<00:00,  1.91it/s]\n",
      "Testing: 100%|██████████| 16/16 [00:06<00:00,  2.64it/s]\n"
     ]
    },
    {
     "name": "stdout",
     "output_type": "stream",
     "text": [
      "Epoch 3, Train Loss: 0.003124218945198013, Validation Loss: 0.0025428506513359922\n"
     ]
    },
    {
     "name": "stderr",
     "output_type": "stream",
     "text": [
      "Epoch 4/15: 100%|██████████| 79/79 [00:39<00:00,  1.98it/s]\n",
      "Testing: 100%|██████████| 16/16 [00:05<00:00,  3.18it/s]\n"
     ]
    },
    {
     "name": "stdout",
     "output_type": "stream",
     "text": [
      "Epoch 4, Train Loss: 0.003054009129603704, Validation Loss: 0.00280413225753427\n"
     ]
    },
    {
     "name": "stderr",
     "output_type": "stream",
     "text": [
      "Epoch 5/15: 100%|██████████| 79/79 [00:37<00:00,  2.08it/s]\n",
      "Testing: 100%|██████████| 16/16 [00:05<00:00,  3.20it/s]\n"
     ]
    },
    {
     "name": "stdout",
     "output_type": "stream",
     "text": [
      "Epoch 5, Train Loss: 0.0030495289119257443, Validation Loss: 0.0025053273699458503\n"
     ]
    },
    {
     "name": "stderr",
     "output_type": "stream",
     "text": [
      "Epoch 6/15: 100%|██████████| 79/79 [00:37<00:00,  2.08it/s]\n",
      "Testing: 100%|██████████| 16/16 [00:05<00:00,  3.17it/s]\n"
     ]
    },
    {
     "name": "stdout",
     "output_type": "stream",
     "text": [
      "Epoch 6, Train Loss: 0.0029821502737664945, Validation Loss: 0.002541261131814088\n"
     ]
    },
    {
     "name": "stderr",
     "output_type": "stream",
     "text": [
      "Epoch 7/15: 100%|██████████| 79/79 [00:37<00:00,  2.09it/s]\n",
      "Testing: 100%|██████████| 16/16 [00:05<00:00,  3.19it/s]\n"
     ]
    },
    {
     "name": "stdout",
     "output_type": "stream",
     "text": [
      "Epoch 7, Train Loss: 0.0029855910166738113, Validation Loss: 0.0025354169568039737\n"
     ]
    },
    {
     "name": "stderr",
     "output_type": "stream",
     "text": [
      "Epoch 8/15: 100%|██████████| 79/79 [00:37<00:00,  2.09it/s]\n",
      "Testing: 100%|██████████| 16/16 [00:05<00:00,  3.13it/s]\n"
     ]
    },
    {
     "name": "stdout",
     "output_type": "stream",
     "text": [
      "Epoch 8, Train Loss: 0.0029595232636168384, Validation Loss: 0.0024989851710879203\n"
     ]
    },
    {
     "name": "stderr",
     "output_type": "stream",
     "text": [
      "Epoch 9/15: 100%|██████████| 79/79 [00:37<00:00,  2.09it/s]\n",
      "Testing: 100%|██████████| 16/16 [00:05<00:00,  3.16it/s]\n"
     ]
    },
    {
     "name": "stdout",
     "output_type": "stream",
     "text": [
      "Epoch 9, Train Loss: 0.00296559759600151, Validation Loss: 0.0024653483455475693\n"
     ]
    },
    {
     "name": "stderr",
     "output_type": "stream",
     "text": [
      "Epoch 10/15: 100%|██████████| 79/79 [00:38<00:00,  2.07it/s]\n",
      "Testing: 100%|██████████| 16/16 [00:05<00:00,  3.17it/s]\n"
     ]
    },
    {
     "name": "stdout",
     "output_type": "stream",
     "text": [
      "Epoch 10, Train Loss: 0.0029387169450089553, Validation Loss: 0.0024582021600031024\n"
     ]
    },
    {
     "name": "stderr",
     "output_type": "stream",
     "text": [
      "Epoch 11/15: 100%|██████████| 79/79 [00:37<00:00,  2.09it/s]\n",
      "Testing: 100%|██████████| 16/16 [00:04<00:00,  3.22it/s]\n"
     ]
    },
    {
     "name": "stdout",
     "output_type": "stream",
     "text": [
      "Epoch 11, Train Loss: 0.002921632315585579, Validation Loss: 0.002423248307700323\n"
     ]
    },
    {
     "name": "stderr",
     "output_type": "stream",
     "text": [
      "Epoch 12/15: 100%|██████████| 79/79 [00:37<00:00,  2.08it/s]\n",
      "Testing: 100%|██████████| 16/16 [00:05<00:00,  3.13it/s]\n"
     ]
    },
    {
     "name": "stdout",
     "output_type": "stream",
     "text": [
      "Epoch 12, Train Loss: 0.0029304646135528307, Validation Loss: 0.002439602605394415\n"
     ]
    },
    {
     "name": "stderr",
     "output_type": "stream",
     "text": [
      "Epoch 13/15: 100%|██████████| 79/79 [00:37<00:00,  2.09it/s]\n",
      "Testing: 100%|██████████| 16/16 [00:05<00:00,  3.16it/s]\n"
     ]
    },
    {
     "name": "stdout",
     "output_type": "stream",
     "text": [
      "Epoch 13, Train Loss: 0.002906317576981973, Validation Loss: 0.002441161517125759\n"
     ]
    },
    {
     "name": "stderr",
     "output_type": "stream",
     "text": [
      "Epoch 14/15: 100%|██████████| 79/79 [00:37<00:00,  2.08it/s]\n",
      "Testing: 100%|██████████| 16/16 [00:05<00:00,  3.18it/s]\n"
     ]
    },
    {
     "name": "stdout",
     "output_type": "stream",
     "text": [
      "Epoch 14, Train Loss: 0.0029164071100345555, Validation Loss: 0.0024109671618717517\n"
     ]
    },
    {
     "name": "stderr",
     "output_type": "stream",
     "text": [
      "Epoch 15/15: 100%|██████████| 79/79 [00:38<00:00,  2.08it/s]\n",
      "Testing: 100%|██████████| 16/16 [00:05<00:00,  3.18it/s]"
     ]
    },
    {
     "name": "stdout",
     "output_type": "stream",
     "text": [
      "Epoch 15, Train Loss: 0.0029068950041768633, Validation Loss: 0.002486893008229355\n",
      "Finished Training\n"
     ]
    },
    {
     "name": "stderr",
     "output_type": "stream",
     "text": [
      "\n"
     ]
    }
   ],
   "source": [
    "train_losses = []\n",
    "test_losses = []\n",
    "criterion2 = nn.L1Loss()\n",
    "\n",
    "for epoch in range(NUM_EPOCHS):\n",
    "    running_loss = 0.0\n",
    "    test_loss = 0.0\n",
    "\n",
    "    # Training loop\n",
    "    model.train()\n",
    "    for _, l_channels, _, _, ab_channels in tqdm(small_train_loader, desc=f'Epoch {epoch + 1}/{NUM_EPOCHS}', leave=True):\n",
    "        l_channels, ab_channels = l_channels.to(device), ab_channels.to(device)\n",
    "\n",
    "        optimizer.zero_grad()\n",
    "        outputs = model(l_channels)\n",
    "        loss = criterion2(outputs, ab_channels)\n",
    "        loss.backward()\n",
    "        optimizer.step()\n",
    "\n",
    "        running_loss += loss.item()\n",
    "\n",
    "    # scheduler.step()  # Update the scheduler\n",
    "    train_losses.append(running_loss / len(train_loader))\n",
    "\n",
    "    # Testing loop\n",
    "    model.eval()\n",
    "    with torch.no_grad():\n",
    "        for _, l_channels, _, _, ab_channels in tqdm(small_test_loader, desc='Testing', leave=True):\n",
    "            l_channels, ab_channels = l_channels.to(device), ab_channels.to(device)\n",
    "            outputs = model(l_channels)\n",
    "            loss = criterion2(outputs, ab_channels)\n",
    "            test_loss += loss.item()\n",
    "\n",
    "    test_losses.append(test_loss / len(test_loader))\n",
    "\n",
    "    # Print training and validation losses\n",
    "    print(f\"Epoch {epoch + 1}, Train Loss: {train_losses[-1]}, Validation Loss: {test_losses[-1]}\")\n",
    "\n",
    "print('Finished Training')"
   ]
  },
  {
   "cell_type": "code",
   "execution_count": 20,
   "metadata": {},
   "outputs": [
    {
     "data": {
      "image/png": "[encoded data removed]",
      "text/plain": [
       "<Figure size 1000x600 with 1 Axes>"
      ]
     },
     "metadata": {},
     "output_type": "display_data"
    }
   ],
   "source": [
    "plt.figure(figsize=(10, 6))\n",
    "plt.plot(train_losses, label='train')\n",
    "plt.plot(test_losses, label='test')\n",
    "plt.xlabel('Epoch')\n",
    "plt.ylabel('Loss')\n",
    "plt.grid(linestyle = \"--\")\n",
    "plt.legend()\n",
    "plt.show()"
   ]
  },
  {
   "cell_type": "code",
   "execution_count": 21,
   "metadata": {},
   "outputs": [
    {
     "data": {
      "image/png": "[encoded data removed]",
      "text/plain": [
       "<Figure size 600x600 with 1 Axes>"
      ]
     },
     "metadata": {},
     "output_type": "display_data"
    }
   ],
   "source": [
    "input = dataset[7653][1].to(device).unsqueeze(0)\n",
    "ab = model(input).squeeze(0)\n",
    "reconstruct_lab(dataset[7653][1].to(device).detach().cpu(), ab.detach().cpu())"
   ]
  },
  {
   "cell_type": "code",
   "execution_count": 22,
   "metadata": {},
   "outputs": [
    {
     "name": "stdout",
     "output_type": "stream",
     "text": [
      "Model saved to models\\CNN_L1Loss.pth successfully!\n"
     ]
    }
   ],
   "source": [
    "save_model(model, \"CNN_L1Loss\")"
   ]
  },
  {
   "cell_type": "code",
   "execution_count": 23,
   "metadata": {},
   "outputs": [
    {
     "name": "stdout",
     "output_type": "stream",
     "text": [
      "CNN model loaded successfully!\n"
     ]
    }
   ],
   "source": [
    "loaded_model2 = load_model(CNN(), \"models/CNN_L1Loss.pth\").to(device)"
   ]
  },
  {
   "cell_type": "code",
   "execution_count": 24,
   "metadata": {},
   "outputs": [
    {
     "data": {
      "text/plain": [
       "device(type='cuda', index=0)"
      ]
     },
     "execution_count": 24,
     "metadata": {},
     "output_type": "execute_result"
    }
   ],
   "source": [
    "next(loaded_model2.parameters()).device # check model is on the right device"
   ]
  },
  {
   "cell_type": "code",
   "execution_count": 25,
   "metadata": {},
   "outputs": [
    {
     "name": "stdout",
     "output_type": "stream",
     "text": [
      "Average MSE: 0.0035\n",
      "Average PSNR: 49.0605\n"
     ]
    }
   ],
   "source": [
    "loaded_model2.eval()\n",
    "\n",
    "total_mse = 0\n",
    "total_psnr = 0\n",
    "num_samples = 0\n",
    "\n",
    "with torch.no_grad():\n",
    "    for _, l_channels, _, _, ab_channels in small_test_loader:\n",
    "        l_channels = l_channels.to(device)\n",
    "        ab_channels = ab_channels.to(device)\n",
    "\n",
    "        ab_preds = loaded_model2(l_channels)\n",
    "\n",
    "        mse = F.mse_loss(ab_preds, ab_channels)\n",
    "        total_mse += mse.item() * ab_channels.size(0)\n",
    "\n",
    "        max_pixel_value = 1.0  # image values are between 0 and 1\n",
    "        psnr = 20 * torch.log10(max_pixel_value**2 / mse)\n",
    "        total_psnr += psnr.item() * ab_channels.size(0)\n",
    "\n",
    "        num_samples += ab_channels.size(0)\n",
    "\n",
    "avg_mse = total_mse / num_samples\n",
    "avg_psnr = total_psnr / num_samples\n",
    "\n",
    "print(f\"Average MSE: {avg_mse:.4f}\")\n",
    "print(f\"Average PSNR: {avg_psnr:.4f}\")"
   ]
  },
  {
   "cell_type": "markdown",
   "metadata": {},
   "source": [
    "### Smooth L1 loss"
   ]
  },
  {
   "cell_type": "code",
   "execution_count": 26,
   "metadata": {},
   "outputs": [],
   "source": [
    "model = CNN().to(device)\n",
    "optimizer = optim.Adam(model.parameters(), lr=1e-4, betas=(0.9, 0.999))"
   ]
  },
  {
   "cell_type": "code",
   "execution_count": 27,
   "metadata": {},
   "outputs": [
    {
     "name": "stderr",
     "output_type": "stream",
     "text": [
      "Epoch 1/15: 100%|██████████| 79/79 [00:39<00:00,  2.02it/s]\n",
      "Testing: 100%|██████████| 16/16 [00:05<00:00,  3.16it/s]\n"
     ]
    },
    {
     "name": "stdout",
     "output_type": "stream",
     "text": [
      "Epoch 1, Train Loss: 0.0019357605155665373, Validation Loss: 0.00013215069543987397\n"
     ]
    },
    {
     "name": "stderr",
     "output_type": "stream",
     "text": [
      "Epoch 2/15: 100%|██████████| 79/79 [00:38<00:00,  2.08it/s]\n",
      "Testing: 100%|██████████| 16/16 [00:05<00:00,  3.17it/s]\n"
     ]
    },
    {
     "name": "stdout",
     "output_type": "stream",
     "text": [
      "Epoch 2, Train Loss: 0.0001518623546836673, Validation Loss: 0.00011370987874099762\n"
     ]
    },
    {
     "name": "stderr",
     "output_type": "stream",
     "text": [
      "Epoch 3/15: 100%|██████████| 79/79 [00:37<00:00,  2.08it/s]\n",
      "Testing: 100%|██████████| 16/16 [00:05<00:00,  3.16it/s]\n"
     ]
    },
    {
     "name": "stdout",
     "output_type": "stream",
     "text": [
      "Epoch 3, Train Loss: 0.0001350751446991943, Validation Loss: 0.00010865153591993578\n"
     ]
    },
    {
     "name": "stderr",
     "output_type": "stream",
     "text": [
      "Epoch 4/15: 100%|██████████| 79/79 [00:38<00:00,  2.08it/s]\n",
      "Testing: 100%|██████████| 16/16 [00:05<00:00,  3.16it/s]\n"
     ]
    },
    {
     "name": "stdout",
     "output_type": "stream",
     "text": [
      "Epoch 4, Train Loss: 0.00013097182381898164, Validation Loss: 0.00011336024667219076\n"
     ]
    },
    {
     "name": "stderr",
     "output_type": "stream",
     "text": [
      "Epoch 5/15: 100%|██████████| 79/79 [00:37<00:00,  2.08it/s]\n",
      "Testing: 100%|██████████| 16/16 [00:05<00:00,  3.14it/s]\n"
     ]
    },
    {
     "name": "stdout",
     "output_type": "stream",
     "text": [
      "Epoch 5, Train Loss: 0.00012919378561386164, Validation Loss: 0.00010711588477895642\n"
     ]
    },
    {
     "name": "stderr",
     "output_type": "stream",
     "text": [
      "Epoch 6/15: 100%|██████████| 79/79 [00:38<00:00,  2.05it/s]\n",
      "Testing: 100%|██████████| 16/16 [00:05<00:00,  2.71it/s]\n"
     ]
    },
    {
     "name": "stdout",
     "output_type": "stream",
     "text": [
      "Epoch 6, Train Loss: 0.00012713790599004802, Validation Loss: 0.00010596695230216594\n"
     ]
    },
    {
     "name": "stderr",
     "output_type": "stream",
     "text": [
      "Epoch 7/15: 100%|██████████| 79/79 [00:38<00:00,  2.06it/s]\n",
      "Testing: 100%|██████████| 16/16 [00:05<00:00,  3.13it/s]\n"
     ]
    },
    {
     "name": "stdout",
     "output_type": "stream",
     "text": [
      "Epoch 7, Train Loss: 0.0001265801218279822, Validation Loss: 0.00010238943305082302\n"
     ]
    },
    {
     "name": "stderr",
     "output_type": "stream",
     "text": [
      "Epoch 8/15: 100%|██████████| 79/79 [00:38<00:00,  2.08it/s]\n",
      "Testing: 100%|██████████| 16/16 [00:05<00:00,  3.18it/s]\n"
     ]
    },
    {
     "name": "stdout",
     "output_type": "stream",
     "text": [
      "Epoch 8, Train Loss: 0.0001258994522954423, Validation Loss: 0.0001072131549493629\n"
     ]
    },
    {
     "name": "stderr",
     "output_type": "stream",
     "text": [
      "Epoch 9/15: 100%|██████████| 79/79 [00:37<00:00,  2.08it/s]\n",
      "Testing: 100%|██████████| 16/16 [00:05<00:00,  3.16it/s]\n"
     ]
    },
    {
     "name": "stdout",
     "output_type": "stream",
     "text": [
      "Epoch 9, Train Loss: 0.00012644930081307025, Validation Loss: 0.00010582516742978087\n"
     ]
    },
    {
     "name": "stderr",
     "output_type": "stream",
     "text": [
      "Epoch 10/15: 100%|██████████| 79/79 [00:38<00:00,  2.08it/s]\n",
      "Testing: 100%|██████████| 16/16 [00:05<00:00,  3.15it/s]\n"
     ]
    },
    {
     "name": "stdout",
     "output_type": "stream",
     "text": [
      "Epoch 10, Train Loss: 0.0001254412075639635, Validation Loss: 0.0001087838111438116\n"
     ]
    },
    {
     "name": "stderr",
     "output_type": "stream",
     "text": [
      "Epoch 11/15: 100%|██████████| 79/79 [00:38<00:00,  2.07it/s]\n",
      "Testing: 100%|██████████| 16/16 [00:05<00:00,  3.17it/s]\n"
     ]
    },
    {
     "name": "stdout",
     "output_type": "stream",
     "text": [
      "Epoch 11, Train Loss: 0.00012427595138081893, Validation Loss: 0.00010237502496919691\n"
     ]
    },
    {
     "name": "stderr",
     "output_type": "stream",
     "text": [
      "Epoch 12/15: 100%|██████████| 79/79 [00:38<00:00,  2.08it/s]\n",
      "Testing: 100%|██████████| 16/16 [00:05<00:00,  3.18it/s]\n"
     ]
    },
    {
     "name": "stdout",
     "output_type": "stream",
     "text": [
      "Epoch 12, Train Loss: 0.00012330207287599356, Validation Loss: 0.00010734392306677508\n"
     ]
    },
    {
     "name": "stderr",
     "output_type": "stream",
     "text": [
      "Epoch 13/15: 100%|██████████| 79/79 [00:37<00:00,  2.08it/s]\n",
      "Testing: 100%|██████████| 16/16 [00:05<00:00,  3.18it/s]\n"
     ]
    },
    {
     "name": "stdout",
     "output_type": "stream",
     "text": [
      "Epoch 13, Train Loss: 0.00012348810422283728, Validation Loss: 0.00011419419165067806\n"
     ]
    },
    {
     "name": "stderr",
     "output_type": "stream",
     "text": [
      "Epoch 14/15: 100%|██████████| 79/79 [00:37<00:00,  2.08it/s]\n",
      "Testing: 100%|██████████| 16/16 [00:05<00:00,  3.14it/s]\n"
     ]
    },
    {
     "name": "stdout",
     "output_type": "stream",
     "text": [
      "Epoch 14, Train Loss: 0.0001231421408319963, Validation Loss: 0.00010254356513900186\n"
     ]
    },
    {
     "name": "stderr",
     "output_type": "stream",
     "text": [
      "Epoch 15/15: 100%|██████████| 79/79 [00:37<00:00,  2.08it/s]\n",
      "Testing: 100%|██████████| 16/16 [00:05<00:00,  3.15it/s]"
     ]
    },
    {
     "name": "stdout",
     "output_type": "stream",
     "text": [
      "Epoch 15, Train Loss: 0.0001232812482557723, Validation Loss: 0.00010323472650052843\n",
      "Finished Training\n"
     ]
    },
    {
     "name": "stderr",
     "output_type": "stream",
     "text": [
      "\n"
     ]
    }
   ],
   "source": [
    "train_losses = []\n",
    "test_losses = []\n",
    "criterion3 = nn.SmoothL1Loss()\n",
    "\n",
    "for epoch in range(NUM_EPOCHS):\n",
    "    running_loss = 0.0\n",
    "    test_loss = 0.0\n",
    "\n",
    "    # Training loop\n",
    "    model.train()\n",
    "    for _, l_channels, _, _, ab_channels in tqdm(small_train_loader, desc=f'Epoch {epoch + 1}/{NUM_EPOCHS}', leave=True):\n",
    "        l_channels, ab_channels = l_channels.to(device), ab_channels.to(device)\n",
    "\n",
    "        optimizer.zero_grad()\n",
    "        outputs = model(l_channels)\n",
    "        loss = criterion3(outputs, ab_channels)\n",
    "        loss.backward()\n",
    "        optimizer.step()\n",
    "\n",
    "        running_loss += loss.item()\n",
    "\n",
    "    # scheduler.step()  # Update the scheduler\n",
    "    train_losses.append(running_loss / len(train_loader))\n",
    "\n",
    "    # Testing loop\n",
    "    model.eval()\n",
    "    with torch.no_grad():\n",
    "        for _, l_channels, _, _, ab_channels in tqdm(small_test_loader, desc='Testing', leave=True):\n",
    "            l_channels, ab_channels = l_channels.to(device), ab_channels.to(device)\n",
    "            outputs = model(l_channels)\n",
    "            loss = criterion3(outputs, ab_channels)\n",
    "            test_loss += loss.item()\n",
    "\n",
    "    test_losses.append(test_loss / len(test_loader))\n",
    "\n",
    "    # Print training and validation losses\n",
    "    print(f\"Epoch {epoch + 1}, Train Loss: {train_losses[-1]}, Validation Loss: {test_losses[-1]}\")\n",
    "\n",
    "print('Finished Training')"
   ]
  },
  {
   "cell_type": "code",
   "execution_count": 28,
   "metadata": {},
   "outputs": [
    {
     "data": {
      "image/png": "[encoded data removed]",
      "text/plain": [
       "<Figure size 1000x600 with 1 Axes>"
      ]
     },
     "metadata": {},
     "output_type": "display_data"
    }
   ],
   "source": [
    "plt.figure(figsize=(10, 6))\n",
    "plt.plot(train_losses, label='train')\n",
    "plt.plot(test_losses, label='test')\n",
    "plt.xlabel('Epoch')\n",
    "plt.ylabel('Loss')\n",
    "plt.grid(linestyle = \"--\")\n",
    "plt.legend()\n",
    "plt.show()"
   ]
  },
  {
   "cell_type": "code",
   "execution_count": 29,
   "metadata": {},
   "outputs": [
    {
     "data": {
      "image/png": "[encoded data removed]",
      "text/plain": [
       "<Figure size 600x600 with 1 Axes>"
      ]
     },
     "metadata": {},
     "output_type": "display_data"
    }
   ],
   "source": [
    "input = dataset[7653][1].to(device).unsqueeze(0)\n",
    "ab = model(input).squeeze(0)\n",
    "reconstruct_lab(dataset[7653][1].to(device).detach().cpu(), ab.detach().cpu())"
   ]
  },
  {
   "cell_type": "code",
   "execution_count": 30,
   "metadata": {},
   "outputs": [
    {
     "name": "stdout",
     "output_type": "stream",
     "text": [
      "Model saved to models\\CNN_SmoothL1.pth successfully!\n"
     ]
    }
   ],
   "source": [
    "save_model(model, \"CNN_SmoothL1\")"
   ]
  },
  {
   "cell_type": "code",
   "execution_count": 31,
   "metadata": {},
   "outputs": [
    {
     "name": "stdout",
     "output_type": "stream",
     "text": [
      "CNN model loaded successfully!\n"
     ]
    }
   ],
   "source": [
    "loaded_model3 = load_model(CNN(), \"models/CNN_SmoothL1.pth\").to(device)"
   ]
  },
  {
   "cell_type": "code",
   "execution_count": 32,
   "metadata": {},
   "outputs": [
    {
     "data": {
      "text/plain": [
       "device(type='cuda', index=0)"
      ]
     },
     "execution_count": 32,
     "metadata": {},
     "output_type": "execute_result"
    }
   ],
   "source": [
    "next(loaded_model3.parameters()).device # check model is on the right device"
   ]
  },
  {
   "cell_type": "code",
   "execution_count": 33,
   "metadata": {},
   "outputs": [
    {
     "name": "stdout",
     "output_type": "stream",
     "text": [
      "Average MSE: 0.0033\n",
      "Average PSNR: 49.5933\n"
     ]
    }
   ],
   "source": [
    "loaded_model3.eval()\n",
    "\n",
    "total_mse = 0\n",
    "total_psnr = 0\n",
    "num_samples = 0\n",
    "\n",
    "with torch.no_grad():\n",
    "    for _, l_channels, _, _, ab_channels in small_test_loader:\n",
    "        l_channels = l_channels.to(device)\n",
    "        ab_channels = ab_channels.to(device)\n",
    "\n",
    "        ab_preds = loaded_model3(l_channels)\n",
    "\n",
    "        mse = F.mse_loss(ab_preds, ab_channels)\n",
    "        total_mse += mse.item() * ab_channels.size(0)\n",
    "\n",
    "        max_pixel_value = 1.0  # image values are between 0 and 1\n",
    "        psnr = 20 * torch.log10(max_pixel_value**2 / mse)\n",
    "        total_psnr += psnr.item() * ab_channels.size(0)\n",
    "\n",
    "        num_samples += ab_channels.size(0)\n",
    "\n",
    "avg_mse = total_mse / num_samples\n",
    "avg_psnr = total_psnr / num_samples\n",
    "\n",
    "print(f\"Average MSE: {avg_mse:.4f}\")\n",
    "print(f\"Average PSNR: {avg_psnr:.4f}\")"
   ]
  },
  {
   "cell_type": "markdown",
   "metadata": {},
   "source": [
    "## Eval"
   ]
  },
  {
   "cell_type": "code",
   "execution_count": null,
   "metadata": {},
   "outputs": [],
   "source": [
    "# plot_rgb(img[0])\n",
    "# reconstruct_lab(img[1].detach().cpu(), loaded_model1(img[1].to(device)).detach().cpu())\n",
    "# reconstruct_lab(img[1].detach().cpu(), loaded_model2(img[1].to(device)).detach().cpu())\n",
    "# reconstruct_lab(img[1].detach().cpu(), loaded_model3(img[1].to(device)).detach().cpu())"
   ]
  }
 ],
 "metadata": {
  "kernelspec": {
   "display_name": "Colorization",
   "language": "python",
   "name": "python3"
  },
  "language_info": {
   "codemirror_mode": {
    "name": "ipython",
    "version": 3
   },
   "file_extension": ".py",
   "mimetype": "text/x-python",
   "name": "python",
   "nbconvert_exporter": "python",
   "pygments_lexer": "ipython3",
   "version": "3.12.3"
  }
 },
 "nbformat": 4,
 "nbformat_minor": 2
}
